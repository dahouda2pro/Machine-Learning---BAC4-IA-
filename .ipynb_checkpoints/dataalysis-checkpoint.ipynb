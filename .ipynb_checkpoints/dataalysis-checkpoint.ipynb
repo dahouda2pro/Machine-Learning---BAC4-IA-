{
 "cells": [
  {
   "cell_type": "code",
   "execution_count": 94,
   "id": "ebcae97d-a81d-4310-830b-1456d9480d84",
   "metadata": {},
   "outputs": [],
   "source": [
    "# Import numpy\n",
    "\n",
    "import numpy as np"
   ]
  },
  {
   "cell_type": "markdown",
   "id": "7fe38290-55be-497f-8642-33c303572220",
   "metadata": {},
   "source": [
    "# 1. Creation d'un tableau 1D"
   ]
  },
  {
   "cell_type": "code",
   "execution_count": 95,
   "id": "295d68f3-c8e0-4114-98f9-601a5e876b31",
   "metadata": {},
   "outputs": [],
   "source": [
    "# Creation d'un tableau 1D\n",
    "tableau_1D = np.array([2, 4, 6, 8, 10])"
   ]
  },
  {
   "cell_type": "code",
   "execution_count": 96,
   "id": "3837f78b-443f-42d3-a84b-75f34276a23c",
   "metadata": {},
   "outputs": [
    {
     "data": {
      "text/plain": [
       "array([ 2,  4,  6,  8, 10])"
      ]
     },
     "execution_count": 96,
     "metadata": {},
     "output_type": "execute_result"
    }
   ],
   "source": [
    "tableau_1D"
   ]
  },
  {
   "cell_type": "code",
   "execution_count": 97,
   "id": "93fd30cb-7c12-48f4-9dcf-330da53b1301",
   "metadata": {},
   "outputs": [
    {
     "data": {
      "text/plain": [
       "numpy.ndarray"
      ]
     },
     "execution_count": 97,
     "metadata": {},
     "output_type": "execute_result"
    }
   ],
   "source": [
    "type(tableau_1D)"
   ]
  },
  {
   "cell_type": "code",
   "execution_count": 98,
   "id": "d724bdd4-5cee-4dcd-bf54-b75d3f05da24",
   "metadata": {},
   "outputs": [
    {
     "name": "stdout",
     "output_type": "stream",
     "text": [
      "<class 'numpy.ndarray'>\n",
      "[ 2  4  6  8 10]\n",
      "(5,)\n"
     ]
    }
   ],
   "source": [
    "print(type(tableau_1D))\n",
    "print(tableau_1D)\n",
    "print(tableau_1D.shape)"
   ]
  },
  {
   "cell_type": "markdown",
   "id": "11ad7937-d8ff-4b17-80eb-98e3123c04d1",
   "metadata": {},
   "source": [
    "# 2. Creation d'un tableau 2D"
   ]
  },
  {
   "cell_type": "code",
   "execution_count": 99,
   "id": "a67450b5-c67b-4166-b56d-c3133bbd11b7",
   "metadata": {},
   "outputs": [],
   "source": [
    "# Creation d'un tableau 2D\n",
    "\n",
    "tableau_2D = np.array([[20, 40, 60, 80]])"
   ]
  },
  {
   "cell_type": "code",
   "execution_count": 100,
   "id": "11441d9f-1d08-4043-adc9-ff00f14d0dca",
   "metadata": {},
   "outputs": [
    {
     "data": {
      "text/plain": [
       "array([[20, 40, 60, 80]])"
      ]
     },
     "execution_count": 100,
     "metadata": {},
     "output_type": "execute_result"
    }
   ],
   "source": [
    "tableau_2D"
   ]
  },
  {
   "cell_type": "code",
   "execution_count": 101,
   "id": "ea0d56b1-1382-44b3-abfb-a6378d710e7c",
   "metadata": {},
   "outputs": [
    {
     "name": "stdout",
     "output_type": "stream",
     "text": [
      "<class 'numpy.ndarray'>\n",
      "[[20 40 60 80]]\n",
      "(1, 4)\n"
     ]
    }
   ],
   "source": [
    "print(type(tableau_2D))\n",
    "print(tableau_2D)\n",
    "print(tableau_2D.shape)"
   ]
  },
  {
   "cell_type": "code",
   "execution_count": 102,
   "id": "62282d31-58b3-4d52-985d-9e3620d53ce5",
   "metadata": {},
   "outputs": [],
   "source": [
    "tableau_2D = np.array([[20, 40, 60, 80],[200, 400, 600, 800] ])"
   ]
  },
  {
   "cell_type": "code",
   "execution_count": 103,
   "id": "1ae5074e-589f-453a-9625-7ae6b647556a",
   "metadata": {},
   "outputs": [
    {
     "name": "stdout",
     "output_type": "stream",
     "text": [
      "<class 'numpy.ndarray'>\n",
      "[[ 20  40  60  80]\n",
      " [200 400 600 800]]\n",
      "(2, 4)\n"
     ]
    }
   ],
   "source": [
    "print(type(tableau_2D))\n",
    "print(tableau_2D)\n",
    "print(tableau_2D.shape)"
   ]
  },
  {
   "cell_type": "markdown",
   "id": "3143b373-d340-446b-988f-951bdeac4972",
   "metadata": {},
   "source": [
    "# 3. Creation d'un tableau 3D"
   ]
  },
  {
   "cell_type": "code",
   "execution_count": 104,
   "id": "d83767d9-e9b5-4538-9170-0efec95b1958",
   "metadata": {},
   "outputs": [],
   "source": [
    "# Creation d'un tableau 3D\n",
    "\n",
    "tableau_3D = np.array([[[1, 3, 5, 7, 9]]])"
   ]
  },
  {
   "cell_type": "code",
   "execution_count": 105,
   "id": "2c8527d9-7e68-4ef3-84da-b131f5c2bcd1",
   "metadata": {},
   "outputs": [
    {
     "name": "stdout",
     "output_type": "stream",
     "text": [
      "<class 'numpy.ndarray'>\n",
      "[[[1 3 5 7 9]]]\n",
      "(1, 1, 5)\n"
     ]
    }
   ],
   "source": [
    "print(type(tableau_3D))\n",
    "print(tableau_3D)\n",
    "print(tableau_3D.shape)"
   ]
  },
  {
   "cell_type": "code",
   "execution_count": 106,
   "id": "41455d72-9301-470e-b458-dded8a3e1c7b",
   "metadata": {},
   "outputs": [],
   "source": [
    "tableau_3D = np.array([[\n",
    "    [1, 3, 5, 7, 9],\n",
    "    [10, 30, 50, 70, 90],\n",
    "    [100, 300, 500, 700, 90],\n",
    "]])"
   ]
  },
  {
   "cell_type": "code",
   "execution_count": 107,
   "id": "32ada69a-bcd8-4a12-82ec-269ef397f769",
   "metadata": {},
   "outputs": [
    {
     "name": "stdout",
     "output_type": "stream",
     "text": [
      "<class 'numpy.ndarray'>\n",
      "[[[  1   3   5   7   9]\n",
      "  [ 10  30  50  70  90]\n",
      "  [100 300 500 700  90]]]\n",
      "(1, 3, 5)\n"
     ]
    }
   ],
   "source": [
    "print(type(tableau_3D))\n",
    "print(tableau_3D)\n",
    "print(tableau_3D.shape)"
   ]
  },
  {
   "cell_type": "markdown",
   "id": "2a727abd-4407-4802-b87b-750899684139",
   "metadata": {},
   "source": [
    "# 4. Creation d'un tableau 4D"
   ]
  },
  {
   "cell_type": "code",
   "execution_count": 108,
   "id": "ce0b7c92-306a-4ee9-ac2d-e9ce0a3ac3f3",
   "metadata": {},
   "outputs": [],
   "source": [
    "tableau_4D = np.array([[[[1, 3, 5, 7, 9]]]])"
   ]
  },
  {
   "cell_type": "code",
   "execution_count": 109,
   "id": "99d84df3-8e3b-402d-b672-f6fe3458aeea",
   "metadata": {},
   "outputs": [
    {
     "data": {
      "text/plain": [
       "array([[[[1, 3, 5, 7, 9]]]])"
      ]
     },
     "execution_count": 109,
     "metadata": {},
     "output_type": "execute_result"
    }
   ],
   "source": [
    "tableau_4D"
   ]
  },
  {
   "cell_type": "code",
   "execution_count": 110,
   "id": "477864dd-f4c8-4cc8-9ba2-d80eec89aa8a",
   "metadata": {},
   "outputs": [
    {
     "name": "stdout",
     "output_type": "stream",
     "text": [
      "<class 'numpy.ndarray'>\n",
      "[[[[1 3 5 7 9]]]]\n",
      "(1, 1, 1, 5)\n"
     ]
    }
   ],
   "source": [
    "print(type(tableau_4D))\n",
    "print(tableau_4D)\n",
    "print(tableau_4D.shape)"
   ]
  },
  {
   "cell_type": "markdown",
   "id": "ab03dc10-71c4-43b3-88cc-4f88752eba7f",
   "metadata": {},
   "source": [
    "# 4. Manipulation de matrix"
   ]
  },
  {
   "cell_type": "code",
   "execution_count": 111,
   "id": "152f4cf9-0b4b-4af1-9ea1-6f2263389e93",
   "metadata": {},
   "outputs": [],
   "source": [
    "a = np.array([1, 2, 3, 4, 5])\n",
    "\n",
    "b = np.array([10, 20, 30, 40, 50])"
   ]
  },
  {
   "cell_type": "code",
   "execution_count": 112,
   "id": "ab4b486d-4265-4af9-afe7-178c001496a4",
   "metadata": {},
   "outputs": [
    {
     "data": {
      "text/plain": [
       "array([1, 2, 3, 4, 5])"
      ]
     },
     "execution_count": 112,
     "metadata": {},
     "output_type": "execute_result"
    }
   ],
   "source": [
    "a"
   ]
  },
  {
   "cell_type": "code",
   "execution_count": 113,
   "id": "4902676b-b2be-44b9-a0a2-0c0ff8c33b2e",
   "metadata": {},
   "outputs": [
    {
     "data": {
      "text/plain": [
       "array([10, 20, 30, 40, 50])"
      ]
     },
     "execution_count": 113,
     "metadata": {},
     "output_type": "execute_result"
    }
   ],
   "source": [
    "b"
   ]
  },
  {
   "cell_type": "code",
   "execution_count": 114,
   "id": "af1db7cb-f986-48da-b467-8994ba89b6ff",
   "metadata": {},
   "outputs": [
    {
     "data": {
      "text/plain": [
       "array([11, 22, 33, 44, 55])"
      ]
     },
     "execution_count": 114,
     "metadata": {},
     "output_type": "execute_result"
    }
   ],
   "source": [
    "# Addition\n",
    "a + b"
   ]
  },
  {
   "cell_type": "code",
   "execution_count": 115,
   "id": "68e6ca32-c773-404f-96ef-07e74feec067",
   "metadata": {},
   "outputs": [
    {
     "data": {
      "text/plain": [
       "array([ -9, -18, -27, -36, -45])"
      ]
     },
     "execution_count": 115,
     "metadata": {},
     "output_type": "execute_result"
    }
   ],
   "source": [
    "# Soustrqction\n",
    "\n",
    "a - b"
   ]
  },
  {
   "cell_type": "code",
   "execution_count": 116,
   "id": "72e76287-a52d-434f-bd93-70fdf2e6becd",
   "metadata": {},
   "outputs": [
    {
     "data": {
      "text/plain": [
       "array([ 9, 18, 27, 36, 45])"
      ]
     },
     "execution_count": 116,
     "metadata": {},
     "output_type": "execute_result"
    }
   ],
   "source": [
    "b - a"
   ]
  },
  {
   "cell_type": "code",
   "execution_count": 117,
   "id": "352c2fb1-67ae-4a56-8240-463076e76025",
   "metadata": {},
   "outputs": [
    {
     "data": {
      "text/plain": [
       "array([ 10,  40,  90, 160, 250])"
      ]
     },
     "execution_count": 117,
     "metadata": {},
     "output_type": "execute_result"
    }
   ],
   "source": [
    "# Multilication\n",
    "a * b"
   ]
  },
  {
   "cell_type": "code",
   "execution_count": 118,
   "id": "027530b2-47b0-42c2-8b76-50d84b4d8012",
   "metadata": {},
   "outputs": [
    {
     "data": {
      "text/plain": [
       "array([ 10,  40,  90, 160, 250])"
      ]
     },
     "execution_count": 118,
     "metadata": {},
     "output_type": "execute_result"
    }
   ],
   "source": [
    "b * a"
   ]
  },
  {
   "cell_type": "code",
   "execution_count": 119,
   "id": "0be9561b-f758-4907-ab32-d4064673b410",
   "metadata": {},
   "outputs": [
    {
     "name": "stdout",
     "output_type": "stream",
     "text": [
      "[0.1 0.1 0.1 0.1 0.1]\n"
     ]
    }
   ],
   "source": [
    "# Division \n",
    "\n",
    "print(a / b)"
   ]
  },
  {
   "cell_type": "code",
   "execution_count": null,
   "id": "9df53462-3bbe-44a3-87e0-a14bc107247c",
   "metadata": {},
   "outputs": [],
   "source": []
  },
  {
   "cell_type": "code",
   "execution_count": 120,
   "id": "d6e7b30e-6ed6-416e-9e5c-e2314b86013c",
   "metadata": {},
   "outputs": [
    {
     "data": {
      "text/plain": [
       "array([10., 10., 10., 10., 10.])"
      ]
     },
     "execution_count": 120,
     "metadata": {},
     "output_type": "execute_result"
    }
   ],
   "source": [
    "b /a "
   ]
  },
  {
   "cell_type": "markdown",
   "id": "c4846227-33ea-40a4-8888-98abea83b9bf",
   "metadata": {},
   "source": [
    "# 6. Dictionnaries"
   ]
  },
  {
   "cell_type": "code",
   "execution_count": 121,
   "id": "62c6d1a9-199a-4bfc-9b22-9b1fa366e45f",
   "metadata": {},
   "outputs": [],
   "source": [
    "my_data = {\n",
    "    'Nom': 'Dahouda',\n",
    "    'Prenom': 'Kasongo',\n",
    "    'Age': 50\n",
    "}"
   ]
  },
  {
   "cell_type": "code",
   "execution_count": 122,
   "id": "18b35634-d1e7-49d4-aabc-7a0e01080c53",
   "metadata": {},
   "outputs": [
    {
     "data": {
      "text/plain": [
       "{'Nom': 'Dahouda', 'Prenom': 'Kasongo', 'Age': 50}"
      ]
     },
     "execution_count": 122,
     "metadata": {},
     "output_type": "execute_result"
    }
   ],
   "source": [
    "my_data"
   ]
  },
  {
   "cell_type": "code",
   "execution_count": 123,
   "id": "f1d6357b-49ff-4407-b01e-474de3a0dad3",
   "metadata": {},
   "outputs": [
    {
     "name": "stdout",
     "output_type": "stream",
     "text": [
      "{'Nom': 'Dahouda', 'Prenom': 'Kasongo', 'Age': 50}\n"
     ]
    }
   ],
   "source": [
    "print(my_data)"
   ]
  },
  {
   "cell_type": "code",
   "execution_count": 124,
   "id": "4da37997-ab46-48e9-98e8-f32ae05b2887",
   "metadata": {},
   "outputs": [],
   "source": [
    "my_data = {\n",
    "    'Nom': ['Dahouda', 'David', 'John', 'Joyce'],\n",
    "    'Prenom': ['Kasongo', 'Ilunga', 'Kazadi', 'Kumwimba'],\n",
    "    'Age': [50, 34 , 43, 45]\n",
    "}"
   ]
  },
  {
   "cell_type": "code",
   "execution_count": 125,
   "id": "1a3b4783-6391-4846-bdff-f6285022af34",
   "metadata": {},
   "outputs": [
    {
     "data": {
      "text/plain": [
       "{'Nom': ['Dahouda', 'David', 'John', 'Joyce'],\n",
       " 'Prenom': ['Kasongo', 'Ilunga', 'Kazadi', 'Kumwimba'],\n",
       " 'Age': [50, 34, 43, 45]}"
      ]
     },
     "execution_count": 125,
     "metadata": {},
     "output_type": "execute_result"
    }
   ],
   "source": [
    "my_data"
   ]
  },
  {
   "cell_type": "code",
   "execution_count": 126,
   "id": "0587b3ff-5008-4455-8d85-4079aa4198c1",
   "metadata": {},
   "outputs": [
    {
     "name": "stdout",
     "output_type": "stream",
     "text": [
      "{'Nom': ['Dahouda', 'David', 'John', 'Joyce'], 'Prenom': ['Kasongo', 'Ilunga', 'Kazadi', 'Kumwimba'], 'Age': [50, 34, 43, 45]}\n"
     ]
    }
   ],
   "source": [
    "print(my_data)"
   ]
  },
  {
   "cell_type": "markdown",
   "id": "b2a2e426-ee48-4338-a730-218355af24f2",
   "metadata": {},
   "source": [
    "# 7. Creation de Dataframe"
   ]
  },
  {
   "cell_type": "code",
   "execution_count": 127,
   "id": "c791c973-fcfc-487e-baba-812177d2ed87",
   "metadata": {},
   "outputs": [],
   "source": [
    "import pandas as pd"
   ]
  },
  {
   "cell_type": "code",
   "execution_count": 128,
   "id": "6ce54d19-6689-4af0-a7e7-573efe91a272",
   "metadata": {},
   "outputs": [],
   "source": [
    "# Creation du dataframe a partir de dictionnaire\n",
    "\n",
    "df = pd.DataFrame(my_data)"
   ]
  },
  {
   "cell_type": "code",
   "execution_count": 129,
   "id": "a9b51e89-26a2-4e15-ab04-726407114a26",
   "metadata": {},
   "outputs": [
    {
     "data": {
      "text/html": [
       "<div>\n",
       "<style scoped>\n",
       "    .dataframe tbody tr th:only-of-type {\n",
       "        vertical-align: middle;\n",
       "    }\n",
       "\n",
       "    .dataframe tbody tr th {\n",
       "        vertical-align: top;\n",
       "    }\n",
       "\n",
       "    .dataframe thead th {\n",
       "        text-align: right;\n",
       "    }\n",
       "</style>\n",
       "<table border=\"1\" class=\"dataframe\">\n",
       "  <thead>\n",
       "    <tr style=\"text-align: right;\">\n",
       "      <th></th>\n",
       "      <th>Nom</th>\n",
       "      <th>Prenom</th>\n",
       "      <th>Age</th>\n",
       "    </tr>\n",
       "  </thead>\n",
       "  <tbody>\n",
       "    <tr>\n",
       "      <th>0</th>\n",
       "      <td>Dahouda</td>\n",
       "      <td>Kasongo</td>\n",
       "      <td>50</td>\n",
       "    </tr>\n",
       "    <tr>\n",
       "      <th>1</th>\n",
       "      <td>David</td>\n",
       "      <td>Ilunga</td>\n",
       "      <td>34</td>\n",
       "    </tr>\n",
       "    <tr>\n",
       "      <th>2</th>\n",
       "      <td>John</td>\n",
       "      <td>Kazadi</td>\n",
       "      <td>43</td>\n",
       "    </tr>\n",
       "    <tr>\n",
       "      <th>3</th>\n",
       "      <td>Joyce</td>\n",
       "      <td>Kumwimba</td>\n",
       "      <td>45</td>\n",
       "    </tr>\n",
       "  </tbody>\n",
       "</table>\n",
       "</div>"
      ],
      "text/plain": [
       "       Nom    Prenom  Age\n",
       "0  Dahouda   Kasongo   50\n",
       "1    David    Ilunga   34\n",
       "2     John    Kazadi   43\n",
       "3    Joyce  Kumwimba   45"
      ]
     },
     "execution_count": 129,
     "metadata": {},
     "output_type": "execute_result"
    }
   ],
   "source": [
    "df"
   ]
  },
  {
   "cell_type": "code",
   "execution_count": 130,
   "id": "0c86a4ca-f4d7-40d8-b847-3f6ccfa7ef06",
   "metadata": {},
   "outputs": [
    {
     "data": {
      "text/plain": [
       "0    Dahouda\n",
       "1      David\n",
       "2       John\n",
       "3      Joyce\n",
       "Name: Nom, dtype: object"
      ]
     },
     "execution_count": 130,
     "metadata": {},
     "output_type": "execute_result"
    }
   ],
   "source": [
    "df['Nom']"
   ]
  },
  {
   "cell_type": "code",
   "execution_count": 131,
   "id": "5a1da823-f8bf-4ade-b276-1cdeb38cac3b",
   "metadata": {},
   "outputs": [
    {
     "data": {
      "text/plain": [
       "0    Dahouda\n",
       "1      David\n",
       "2       John\n",
       "3      Joyce\n",
       "Name: Nom, dtype: object"
      ]
     },
     "execution_count": 131,
     "metadata": {},
     "output_type": "execute_result"
    }
   ],
   "source": [
    "df.Nom "
   ]
  },
  {
   "cell_type": "code",
   "execution_count": 132,
   "id": "97fae0ec-7f0a-423b-ae31-08e4ce5c22ea",
   "metadata": {},
   "outputs": [
    {
     "data": {
      "text/plain": [
       "0     True\n",
       "1    False\n",
       "2    False\n",
       "3    False\n",
       "Name: Nom, dtype: bool"
      ]
     },
     "execution_count": 132,
     "metadata": {},
     "output_type": "execute_result"
    }
   ],
   "source": [
    "df.Nom == 'Dahouda'"
   ]
  },
  {
   "cell_type": "code",
   "execution_count": 133,
   "id": "c103c329-68c5-47af-8170-1259cfa36fdf",
   "metadata": {},
   "outputs": [
    {
     "data": {
      "text/html": [
       "<div>\n",
       "<style scoped>\n",
       "    .dataframe tbody tr th:only-of-type {\n",
       "        vertical-align: middle;\n",
       "    }\n",
       "\n",
       "    .dataframe tbody tr th {\n",
       "        vertical-align: top;\n",
       "    }\n",
       "\n",
       "    .dataframe thead th {\n",
       "        text-align: right;\n",
       "    }\n",
       "</style>\n",
       "<table border=\"1\" class=\"dataframe\">\n",
       "  <thead>\n",
       "    <tr style=\"text-align: right;\">\n",
       "      <th></th>\n",
       "      <th>Nom</th>\n",
       "      <th>Prenom</th>\n",
       "      <th>Age</th>\n",
       "    </tr>\n",
       "  </thead>\n",
       "  <tbody>\n",
       "    <tr>\n",
       "      <th>0</th>\n",
       "      <td>Dahouda</td>\n",
       "      <td>Kasongo</td>\n",
       "      <td>50</td>\n",
       "    </tr>\n",
       "  </tbody>\n",
       "</table>\n",
       "</div>"
      ],
      "text/plain": [
       "       Nom   Prenom  Age\n",
       "0  Dahouda  Kasongo   50"
      ]
     },
     "execution_count": 133,
     "metadata": {},
     "output_type": "execute_result"
    }
   ],
   "source": [
    "df[df['Nom'] == 'Dahouda']"
   ]
  },
  {
   "cell_type": "code",
   "execution_count": 134,
   "id": "42259685-9aae-4043-b21e-b7050cc55bbc",
   "metadata": {},
   "outputs": [
    {
     "data": {
      "text/html": [
       "<div>\n",
       "<style scoped>\n",
       "    .dataframe tbody tr th:only-of-type {\n",
       "        vertical-align: middle;\n",
       "    }\n",
       "\n",
       "    .dataframe tbody tr th {\n",
       "        vertical-align: top;\n",
       "    }\n",
       "\n",
       "    .dataframe thead th {\n",
       "        text-align: right;\n",
       "    }\n",
       "</style>\n",
       "<table border=\"1\" class=\"dataframe\">\n",
       "  <thead>\n",
       "    <tr style=\"text-align: right;\">\n",
       "      <th></th>\n",
       "      <th>Nom</th>\n",
       "      <th>Age</th>\n",
       "    </tr>\n",
       "  </thead>\n",
       "  <tbody>\n",
       "    <tr>\n",
       "      <th>0</th>\n",
       "      <td>Dahouda</td>\n",
       "      <td>50</td>\n",
       "    </tr>\n",
       "    <tr>\n",
       "      <th>1</th>\n",
       "      <td>David</td>\n",
       "      <td>34</td>\n",
       "    </tr>\n",
       "    <tr>\n",
       "      <th>2</th>\n",
       "      <td>John</td>\n",
       "      <td>43</td>\n",
       "    </tr>\n",
       "    <tr>\n",
       "      <th>3</th>\n",
       "      <td>Joyce</td>\n",
       "      <td>45</td>\n",
       "    </tr>\n",
       "  </tbody>\n",
       "</table>\n",
       "</div>"
      ],
      "text/plain": [
       "       Nom  Age\n",
       "0  Dahouda   50\n",
       "1    David   34\n",
       "2     John   43\n",
       "3    Joyce   45"
      ]
     },
     "execution_count": 134,
     "metadata": {},
     "output_type": "execute_result"
    }
   ],
   "source": [
    "df[['Nom','Age']]"
   ]
  },
  {
   "cell_type": "code",
   "execution_count": 135,
   "id": "ca4b86e7-86c9-4e0d-bf50-de535a268069",
   "metadata": {},
   "outputs": [
    {
     "data": {
      "text/plain": [
       "(4, 3)"
      ]
     },
     "execution_count": 135,
     "metadata": {},
     "output_type": "execute_result"
    }
   ],
   "source": [
    "df.shape"
   ]
  },
  {
   "cell_type": "code",
   "execution_count": 136,
   "id": "b370f8f2-fab8-4b43-9927-66b315e30720",
   "metadata": {},
   "outputs": [
    {
     "data": {
      "text/html": [
       "<div>\n",
       "<style scoped>\n",
       "    .dataframe tbody tr th:only-of-type {\n",
       "        vertical-align: middle;\n",
       "    }\n",
       "\n",
       "    .dataframe tbody tr th {\n",
       "        vertical-align: top;\n",
       "    }\n",
       "\n",
       "    .dataframe thead th {\n",
       "        text-align: right;\n",
       "    }\n",
       "</style>\n",
       "<table border=\"1\" class=\"dataframe\">\n",
       "  <thead>\n",
       "    <tr style=\"text-align: right;\">\n",
       "      <th></th>\n",
       "      <th>Nom</th>\n",
       "      <th>Prenom</th>\n",
       "      <th>Age</th>\n",
       "    </tr>\n",
       "  </thead>\n",
       "  <tbody>\n",
       "    <tr>\n",
       "      <th>0</th>\n",
       "      <td>Dahouda</td>\n",
       "      <td>Kasongo</td>\n",
       "      <td>50</td>\n",
       "    </tr>\n",
       "    <tr>\n",
       "      <th>1</th>\n",
       "      <td>David</td>\n",
       "      <td>Ilunga</td>\n",
       "      <td>34</td>\n",
       "    </tr>\n",
       "    <tr>\n",
       "      <th>2</th>\n",
       "      <td>John</td>\n",
       "      <td>Kazadi</td>\n",
       "      <td>43</td>\n",
       "    </tr>\n",
       "    <tr>\n",
       "      <th>3</th>\n",
       "      <td>Joyce</td>\n",
       "      <td>Kumwimba</td>\n",
       "      <td>45</td>\n",
       "    </tr>\n",
       "  </tbody>\n",
       "</table>\n",
       "</div>"
      ],
      "text/plain": [
       "       Nom    Prenom  Age\n",
       "0  Dahouda   Kasongo   50\n",
       "1    David    Ilunga   34\n",
       "2     John    Kazadi   43\n",
       "3    Joyce  Kumwimba   45"
      ]
     },
     "execution_count": 136,
     "metadata": {},
     "output_type": "execute_result"
    }
   ],
   "source": [
    "df"
   ]
  },
  {
   "cell_type": "code",
   "execution_count": 137,
   "id": "ae499713-1f6a-4e87-b918-a537a6c82579",
   "metadata": {},
   "outputs": [
    {
     "data": {
      "text/plain": [
       "Nom       Dahouda\n",
       "Prenom    Kasongo\n",
       "Age            50\n",
       "Name: 0, dtype: object"
      ]
     },
     "execution_count": 137,
     "metadata": {},
     "output_type": "execute_result"
    }
   ],
   "source": [
    "df.loc[0]"
   ]
  },
  {
   "cell_type": "code",
   "execution_count": 138,
   "id": "bad6f480-28cb-4f4e-bcd3-2f8883b1f0c7",
   "metadata": {},
   "outputs": [
    {
     "data": {
      "text/plain": [
       "Nom        David\n",
       "Prenom    Ilunga\n",
       "Age           34\n",
       "Name: 1, dtype: object"
      ]
     },
     "execution_count": 138,
     "metadata": {},
     "output_type": "execute_result"
    }
   ],
   "source": [
    "df.loc[1]"
   ]
  },
  {
   "cell_type": "code",
   "execution_count": 139,
   "id": "9cd8cecd-a867-4c17-9ed5-896dde1f6ccf",
   "metadata": {},
   "outputs": [
    {
     "data": {
      "text/html": [
       "<div>\n",
       "<style scoped>\n",
       "    .dataframe tbody tr th:only-of-type {\n",
       "        vertical-align: middle;\n",
       "    }\n",
       "\n",
       "    .dataframe tbody tr th {\n",
       "        vertical-align: top;\n",
       "    }\n",
       "\n",
       "    .dataframe thead th {\n",
       "        text-align: right;\n",
       "    }\n",
       "</style>\n",
       "<table border=\"1\" class=\"dataframe\">\n",
       "  <thead>\n",
       "    <tr style=\"text-align: right;\">\n",
       "      <th></th>\n",
       "      <th>Nom</th>\n",
       "      <th>Prenom</th>\n",
       "      <th>Age</th>\n",
       "    </tr>\n",
       "  </thead>\n",
       "  <tbody>\n",
       "    <tr>\n",
       "      <th>1</th>\n",
       "      <td>David</td>\n",
       "      <td>Ilunga</td>\n",
       "      <td>34</td>\n",
       "    </tr>\n",
       "    <tr>\n",
       "      <th>2</th>\n",
       "      <td>John</td>\n",
       "      <td>Kazadi</td>\n",
       "      <td>43</td>\n",
       "    </tr>\n",
       "    <tr>\n",
       "      <th>3</th>\n",
       "      <td>Joyce</td>\n",
       "      <td>Kumwimba</td>\n",
       "      <td>45</td>\n",
       "    </tr>\n",
       "  </tbody>\n",
       "</table>\n",
       "</div>"
      ],
      "text/plain": [
       "     Nom    Prenom  Age\n",
       "1  David    Ilunga   34\n",
       "2   John    Kazadi   43\n",
       "3  Joyce  Kumwimba   45"
      ]
     },
     "execution_count": 139,
     "metadata": {},
     "output_type": "execute_result"
    }
   ],
   "source": [
    "df.loc[1:]"
   ]
  },
  {
   "cell_type": "code",
   "execution_count": 142,
   "id": "5c6d0b88-b97a-4515-9dd7-2e7c3f2d2a4b",
   "metadata": {},
   "outputs": [
    {
     "data": {
      "text/html": [
       "<div>\n",
       "<style scoped>\n",
       "    .dataframe tbody tr th:only-of-type {\n",
       "        vertical-align: middle;\n",
       "    }\n",
       "\n",
       "    .dataframe tbody tr th {\n",
       "        vertical-align: top;\n",
       "    }\n",
       "\n",
       "    .dataframe thead th {\n",
       "        text-align: right;\n",
       "    }\n",
       "</style>\n",
       "<table border=\"1\" class=\"dataframe\">\n",
       "  <thead>\n",
       "    <tr style=\"text-align: right;\">\n",
       "      <th></th>\n",
       "      <th>Nom</th>\n",
       "      <th>Prenom</th>\n",
       "      <th>Age</th>\n",
       "    </tr>\n",
       "  </thead>\n",
       "  <tbody>\n",
       "    <tr>\n",
       "      <th>0</th>\n",
       "      <td>Dahouda</td>\n",
       "      <td>Kasongo</td>\n",
       "      <td>50</td>\n",
       "    </tr>\n",
       "    <tr>\n",
       "      <th>1</th>\n",
       "      <td>David</td>\n",
       "      <td>Ilunga</td>\n",
       "      <td>34</td>\n",
       "    </tr>\n",
       "    <tr>\n",
       "      <th>2</th>\n",
       "      <td>John</td>\n",
       "      <td>Kazadi</td>\n",
       "      <td>43</td>\n",
       "    </tr>\n",
       "    <tr>\n",
       "      <th>3</th>\n",
       "      <td>Joyce</td>\n",
       "      <td>Kumwimba</td>\n",
       "      <td>45</td>\n",
       "    </tr>\n",
       "  </tbody>\n",
       "</table>\n",
       "</div>"
      ],
      "text/plain": [
       "       Nom    Prenom  Age\n",
       "0  Dahouda   Kasongo   50\n",
       "1    David    Ilunga   34\n",
       "2     John    Kazadi   43\n",
       "3    Joyce  Kumwimba   45"
      ]
     },
     "execution_count": 142,
     "metadata": {},
     "output_type": "execute_result"
    }
   ],
   "source": [
    "df[:]"
   ]
  },
  {
   "cell_type": "code",
   "execution_count": 144,
   "id": "39da662e-9eb8-479d-a4c7-c030fe5cb72e",
   "metadata": {},
   "outputs": [
    {
     "data": {
      "text/html": [
       "<div>\n",
       "<style scoped>\n",
       "    .dataframe tbody tr th:only-of-type {\n",
       "        vertical-align: middle;\n",
       "    }\n",
       "\n",
       "    .dataframe tbody tr th {\n",
       "        vertical-align: top;\n",
       "    }\n",
       "\n",
       "    .dataframe thead th {\n",
       "        text-align: right;\n",
       "    }\n",
       "</style>\n",
       "<table border=\"1\" class=\"dataframe\">\n",
       "  <thead>\n",
       "    <tr style=\"text-align: right;\">\n",
       "      <th></th>\n",
       "      <th>Nom</th>\n",
       "      <th>Prenom</th>\n",
       "    </tr>\n",
       "  </thead>\n",
       "  <tbody>\n",
       "    <tr>\n",
       "      <th>0</th>\n",
       "      <td>Dahouda</td>\n",
       "      <td>Kasongo</td>\n",
       "    </tr>\n",
       "    <tr>\n",
       "      <th>1</th>\n",
       "      <td>David</td>\n",
       "      <td>Ilunga</td>\n",
       "    </tr>\n",
       "    <tr>\n",
       "      <th>2</th>\n",
       "      <td>John</td>\n",
       "      <td>Kazadi</td>\n",
       "    </tr>\n",
       "    <tr>\n",
       "      <th>3</th>\n",
       "      <td>Joyce</td>\n",
       "      <td>Kumwimba</td>\n",
       "    </tr>\n",
       "  </tbody>\n",
       "</table>\n",
       "</div>"
      ],
      "text/plain": [
       "       Nom    Prenom\n",
       "0  Dahouda   Kasongo\n",
       "1    David    Ilunga\n",
       "2     John    Kazadi\n",
       "3    Joyce  Kumwimba"
      ]
     },
     "execution_count": 144,
     "metadata": {},
     "output_type": "execute_result"
    }
   ],
   "source": [
    "df.iloc[:, :-1]"
   ]
  },
  {
   "cell_type": "code",
   "execution_count": 145,
   "id": "5a533c95-c5da-4556-b5d1-2666a424c9e8",
   "metadata": {},
   "outputs": [
    {
     "data": {
      "text/plain": [
       "0    50\n",
       "1    34\n",
       "2    43\n",
       "3    45\n",
       "Name: Age, dtype: int64"
      ]
     },
     "execution_count": 145,
     "metadata": {},
     "output_type": "execute_result"
    }
   ],
   "source": [
    "df.iloc[:, -1]"
   ]
  },
  {
   "cell_type": "code",
   "execution_count": 147,
   "id": "f6e93ffc-3280-48aa-a262-9401a4e3fe32",
   "metadata": {},
   "outputs": [],
   "source": [
    "import matplotlib.pyplot as plt"
   ]
  },
  {
   "cell_type": "code",
   "execution_count": 148,
   "id": "9a68ee91-b968-43ce-bec9-8c17242c9bac",
   "metadata": {},
   "outputs": [],
   "source": [
    "x = np.linspace(0, 2, 100)"
   ]
  },
  {
   "cell_type": "code",
   "execution_count": 153,
   "id": "c6a1c276-c994-4d0a-a42b-4164e2e2996a",
   "metadata": {},
   "outputs": [
    {
     "data": {
      "text/plain": [
       "<matplotlib.legend.Legend at 0x1b688d61420>"
      ]
     },
     "execution_count": 153,
     "metadata": {},
     "output_type": "execute_result"
    },
    {
     "data": {
      "image/png": "[encoded data removed]",
      "text/plain": [
       "<Figure size 800x400 with 1 Axes>"
      ]
     },
     "metadata": {},
     "output_type": "display_data"
    }
   ],
   "source": [
    "fig, ax = plt.subplots(figsize=(8, 4))\n",
    "ax.plot(x, x, label='Lineaire')\n",
    "ax.plot(x, x**2, label='Quadratique')\n",
    "ax.plot(x, x**3, label='Cubique')\n",
    "ax.plot(x, x**4, label='Quatre')\n",
    "ax.set_xlabel('X label')\n",
    "ax.set_ylabel('Y Label')\n",
    "ax.set_title('Simple Plot')\n",
    "ax.legend()"
   ]
  },
  {
   "cell_type": "code",
   "execution_count": 154,
   "id": "baf1f1b3-edab-410c-9c28-24c9856ff772",
   "metadata": {},
   "outputs": [],
   "source": [
    "import seaborn as sns"
   ]
  },
  {
   "cell_type": "code",
   "execution_count": 155,
   "id": "273f32ac-b6ed-40d9-8ecc-df3a2bb0152c",
   "metadata": {},
   "outputs": [],
   "source": [
    "iris = sns.load_dataset('iris')"
   ]
  },
  {
   "cell_type": "code",
   "execution_count": 156,
   "id": "65e22f3a-1562-495a-a46b-f1f96f91e627",
   "metadata": {},
   "outputs": [
    {
     "data": {
      "text/html": [
       "<div>\n",
       "<style scoped>\n",
       "    .dataframe tbody tr th:only-of-type {\n",
       "        vertical-align: middle;\n",
       "    }\n",
       "\n",
       "    .dataframe tbody tr th {\n",
       "        vertical-align: top;\n",
       "    }\n",
       "\n",
       "    .dataframe thead th {\n",
       "        text-align: right;\n",
       "    }\n",
       "</style>\n",
       "<table border=\"1\" class=\"dataframe\">\n",
       "  <thead>\n",
       "    <tr style=\"text-align: right;\">\n",
       "      <th></th>\n",
       "      <th>sepal_length</th>\n",
       "      <th>sepal_width</th>\n",
       "      <th>petal_length</th>\n",
       "      <th>petal_width</th>\n",
       "      <th>species</th>\n",
       "    </tr>\n",
       "  </thead>\n",
       "  <tbody>\n",
       "    <tr>\n",
       "      <th>0</th>\n",
       "      <td>5.1</td>\n",
       "      <td>3.5</td>\n",
       "      <td>1.4</td>\n",
       "      <td>0.2</td>\n",
       "      <td>setosa</td>\n",
       "    </tr>\n",
       "    <tr>\n",
       "      <th>1</th>\n",
       "      <td>4.9</td>\n",
       "      <td>3.0</td>\n",
       "      <td>1.4</td>\n",
       "      <td>0.2</td>\n",
       "      <td>setosa</td>\n",
       "    </tr>\n",
       "    <tr>\n",
       "      <th>2</th>\n",
       "      <td>4.7</td>\n",
       "      <td>3.2</td>\n",
       "      <td>1.3</td>\n",
       "      <td>0.2</td>\n",
       "      <td>setosa</td>\n",
       "    </tr>\n",
       "    <tr>\n",
       "      <th>3</th>\n",
       "      <td>4.6</td>\n",
       "      <td>3.1</td>\n",
       "      <td>1.5</td>\n",
       "      <td>0.2</td>\n",
       "      <td>setosa</td>\n",
       "    </tr>\n",
       "    <tr>\n",
       "      <th>4</th>\n",
       "      <td>5.0</td>\n",
       "      <td>3.6</td>\n",
       "      <td>1.4</td>\n",
       "      <td>0.2</td>\n",
       "      <td>setosa</td>\n",
       "    </tr>\n",
       "    <tr>\n",
       "      <th>...</th>\n",
       "      <td>...</td>\n",
       "      <td>...</td>\n",
       "      <td>...</td>\n",
       "      <td>...</td>\n",
       "      <td>...</td>\n",
       "    </tr>\n",
       "    <tr>\n",
       "      <th>145</th>\n",
       "      <td>6.7</td>\n",
       "      <td>3.0</td>\n",
       "      <td>5.2</td>\n",
       "      <td>2.3</td>\n",
       "      <td>virginica</td>\n",
       "    </tr>\n",
       "    <tr>\n",
       "      <th>146</th>\n",
       "      <td>6.3</td>\n",
       "      <td>2.5</td>\n",
       "      <td>5.0</td>\n",
       "      <td>1.9</td>\n",
       "      <td>virginica</td>\n",
       "    </tr>\n",
       "    <tr>\n",
       "      <th>147</th>\n",
       "      <td>6.5</td>\n",
       "      <td>3.0</td>\n",
       "      <td>5.2</td>\n",
       "      <td>2.0</td>\n",
       "      <td>virginica</td>\n",
       "    </tr>\n",
       "    <tr>\n",
       "      <th>148</th>\n",
       "      <td>6.2</td>\n",
       "      <td>3.4</td>\n",
       "      <td>5.4</td>\n",
       "      <td>2.3</td>\n",
       "      <td>virginica</td>\n",
       "    </tr>\n",
       "    <tr>\n",
       "      <th>149</th>\n",
       "      <td>5.9</td>\n",
       "      <td>3.0</td>\n",
       "      <td>5.1</td>\n",
       "      <td>1.8</td>\n",
       "      <td>virginica</td>\n",
       "    </tr>\n",
       "  </tbody>\n",
       "</table>\n",
       "<p>150 rows × 5 columns</p>\n",
       "</div>"
      ],
      "text/plain": [
       "     sepal_length  sepal_width  petal_length  petal_width    species\n",
       "0             5.1          3.5           1.4          0.2     setosa\n",
       "1             4.9          3.0           1.4          0.2     setosa\n",
       "2             4.7          3.2           1.3          0.2     setosa\n",
       "3             4.6          3.1           1.5          0.2     setosa\n",
       "4             5.0          3.6           1.4          0.2     setosa\n",
       "..            ...          ...           ...          ...        ...\n",
       "145           6.7          3.0           5.2          2.3  virginica\n",
       "146           6.3          2.5           5.0          1.9  virginica\n",
       "147           6.5          3.0           5.2          2.0  virginica\n",
       "148           6.2          3.4           5.4          2.3  virginica\n",
       "149           5.9          3.0           5.1          1.8  virginica\n",
       "\n",
       "[150 rows x 5 columns]"
      ]
     },
     "execution_count": 156,
     "metadata": {},
     "output_type": "execute_result"
    }
   ],
   "source": [
    "iris"
   ]
  },
  {
   "cell_type": "code",
   "execution_count": 158,
   "id": "f85c7f8f-4044-495d-980d-55d92b34dd2d",
   "metadata": {},
   "outputs": [
    {
     "data": {
      "image/png": "[encoded data removed]",
      "text/plain": [
       "<Figure size 640x480 with 1 Axes>"
      ]
     },
     "metadata": {},
     "output_type": "display_data"
    }
   ],
   "source": [
    "sns.scatterplot(x='sepal_length', y='sepal_width', data=iris, hue='species')\n",
    "plt.xlabel('Longueur de sepales')\n",
    "plt.ylabel('Largeur de sepales')\n",
    "plt.title('Iris Data')\n",
    "plt.show()"
   ]
  },
  {
   "cell_type": "code",
   "execution_count": 160,
   "id": "c3b9345f-60d6-4acf-bc07-9974053fc17e",
   "metadata": {},
   "outputs": [
    {
     "data": {
      "text/plain": [
       "array(['setosa', 'versicolor', 'virginica'], dtype=object)"
      ]
     },
     "execution_count": 160,
     "metadata": {},
     "output_type": "execute_result"
    }
   ],
   "source": [
    "iris['species'].unique()"
   ]
  },
  {
   "cell_type": "code",
   "execution_count": null,
   "id": "7376a86d-794c-402e-870f-d2fdc09fb43a",
   "metadata": {},
   "outputs": [],
   "source": []
  },
  {
   "cell_type": "code",
   "execution_count": null,
   "id": "78496bb6-63d1-4870-8075-4939e04c804c",
   "metadata": {},
   "outputs": [],
   "source": []
  },
  {
   "cell_type": "code",
   "execution_count": null,
   "id": "be2b14ab-41da-4d31-8525-eb6de1593ce7",
   "metadata": {},
   "outputs": [],
   "source": []
  },
  {
   "cell_type": "code",
   "execution_count": null,
   "id": "d73cad08-6006-4df8-80fe-a5aa3ae0caa4",
   "metadata": {},
   "outputs": [],
   "source": []
  },
  {
   "cell_type": "code",
   "execution_count": null,
   "id": "40fb3bec-f022-4279-9a8d-0ca0100287a6",
   "metadata": {},
   "outputs": [],
   "source": []
  },
  {
   "cell_type": "code",
   "execution_count": null,
   "id": "68b1a13d-cca6-484a-a7b9-b863b39a5cbd",
   "metadata": {},
   "outputs": [],
   "source": []
  },
  {
   "cell_type": "code",
   "execution_count": null,
   "id": "0e8cbd2e-2103-475e-af55-593a6354877c",
   "metadata": {},
   "outputs": [],
   "source": []
  },
  {
   "cell_type": "code",
   "execution_count": null,
   "id": "33623bb2-102f-409a-92d4-61aad58e0e80",
   "metadata": {},
   "outputs": [],
   "source": []
  },
  {
   "cell_type": "code",
   "execution_count": null,
   "id": "5af6108e-ae8b-4ada-8dac-81aaaef043fc",
   "metadata": {},
   "outputs": [],
   "source": []
  },
  {
   "cell_type": "code",
   "execution_count": null,
   "id": "964e716a-0100-4fa1-aad3-9de9e6c34301",
   "metadata": {},
   "outputs": [],
   "source": []
  },
  {
   "cell_type": "code",
   "execution_count": null,
   "id": "d3fa7186-d3bd-4ba0-bac7-98310540d03a",
   "metadata": {},
   "outputs": [],
   "source": []
  },
  {
   "cell_type": "code",
   "execution_count": null,
   "id": "b8f964ee-61a7-451d-a011-e849e8a2811b",
   "metadata": {},
   "outputs": [],
   "source": []
  }
 ],
 "metadata": {
  "kernelspec": {
   "display_name": "Python 3 (ipykernel)",
   "language": "python",
   "name": "python3"
  },
  "language_info": {
   "codemirror_mode": {
    "name": "ipython",
    "version": 3
   },
   "file_extension": ".py",
   "mimetype": "text/x-python",
   "name": "python",
   "nbconvert_exporter": "python",
   "pygments_lexer": "ipython3",
   "version": "3.10.13"
  }
 },
 "nbformat": 4,
 "nbformat_minor": 5
}
