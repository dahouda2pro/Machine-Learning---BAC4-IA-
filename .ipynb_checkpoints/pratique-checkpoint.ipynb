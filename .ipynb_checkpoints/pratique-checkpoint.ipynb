{
 "cells": [
  {
   "cell_type": "code",
   "execution_count": 69,
   "id": "571e9327-fa4a-44af-a2c4-fe6dcd5e30fb",
   "metadata": {},
   "outputs": [],
   "source": [
    "import numpy as np"
   ]
  },
  {
   "cell_type": "code",
   "execution_count": 70,
   "id": "86b5e3d9-79c0-440a-9df9-9abe4cd4eea8",
   "metadata": {},
   "outputs": [],
   "source": [
    "# Tableau 1D\n",
    "tab_1D = np.array([1, 2, 3, 4, 5])"
   ]
  },
  {
   "cell_type": "code",
   "execution_count": 71,
   "id": "217afc6e-0d89-4557-adb8-b1afa4a78894",
   "metadata": {},
   "outputs": [
    {
     "name": "stdout",
     "output_type": "stream",
     "text": [
      "[1 2 3 4 5]\n"
     ]
    }
   ],
   "source": [
    "print(tab_1D)"
   ]
  },
  {
   "cell_type": "code",
   "execution_count": 72,
   "id": "546bf2c6-9062-4098-8b8c-346eef0cee2a",
   "metadata": {},
   "outputs": [
    {
     "name": "stdout",
     "output_type": "stream",
     "text": [
      "<class 'numpy.ndarray'>\n",
      "(5,)\n"
     ]
    }
   ],
   "source": [
    "print(type(tab_1D))\n",
    "print(tab_1D.shape)"
   ]
  },
  {
   "cell_type": "code",
   "execution_count": 73,
   "id": "0d912c89-f28d-47b8-8c76-57d003cd4d35",
   "metadata": {},
   "outputs": [],
   "source": [
    "# Tableau 2D\n",
    "tab_2D = np.array([[1, 3, 5, 7, 9]])"
   ]
  },
  {
   "cell_type": "code",
   "execution_count": 74,
   "id": "05bf8f96-fcc4-41b2-9b0b-73f583c08f60",
   "metadata": {},
   "outputs": [
    {
     "data": {
      "text/plain": [
       "array([[1, 3, 5, 7, 9]])"
      ]
     },
     "execution_count": 74,
     "metadata": {},
     "output_type": "execute_result"
    }
   ],
   "source": [
    "tab_2D"
   ]
  },
  {
   "cell_type": "code",
   "execution_count": 75,
   "id": "37e0a0cc-3c94-4ba7-b99f-ee5ca2a28e7e",
   "metadata": {},
   "outputs": [
    {
     "name": "stdout",
     "output_type": "stream",
     "text": [
      "<class 'numpy.ndarray'>\n",
      "(1, 5)\n",
      "[[1 3 5 7 9]]\n"
     ]
    }
   ],
   "source": [
    "print(type(tab_2D))\n",
    "print(tab_2D.shape)\n",
    "print(tab_2D)"
   ]
  },
  {
   "cell_type": "code",
   "execution_count": 76,
   "id": "e437f120-3232-4248-a25a-385669ecd46a",
   "metadata": {},
   "outputs": [],
   "source": [
    "tab_2D = np.array([\n",
    "    [1, 3, 5, 7, 9],\n",
    "    [10, 30, 50, 70, 90],\n",
    "    [100, 300, 500, 700, 900]\n",
    "])"
   ]
  },
  {
   "cell_type": "code",
   "execution_count": 77,
   "id": "d9ae05ca-b91d-4c30-81d6-665457606fc4",
   "metadata": {},
   "outputs": [
    {
     "name": "stdout",
     "output_type": "stream",
     "text": [
      "<class 'numpy.ndarray'>\n",
      "(3, 5)\n",
      "[[  1   3   5   7   9]\n",
      " [ 10  30  50  70  90]\n",
      " [100 300 500 700 900]]\n"
     ]
    }
   ],
   "source": [
    "print(type(tab_2D))\n",
    "print(tab_2D.shape)\n",
    "print(tab_2D)"
   ]
  },
  {
   "cell_type": "code",
   "execution_count": 78,
   "id": "babe4ca0-c5d5-41ae-8cdf-bac84aa6cec5",
   "metadata": {},
   "outputs": [
    {
     "data": {
      "text/plain": [
       "900"
      ]
     },
     "execution_count": 78,
     "metadata": {},
     "output_type": "execute_result"
    }
   ],
   "source": [
    "tab_2D[2][4]"
   ]
  },
  {
   "cell_type": "code",
   "execution_count": 79,
   "id": "bc98f6ec-5328-4128-9337-23a7ac5ab358",
   "metadata": {},
   "outputs": [],
   "source": [
    "# Tableau 3D\n",
    "tab_3D = np.array([[\n",
    "    [2, 4, 6, 8], \n",
    "    [20, 40, 60, 80]\n",
    "]])"
   ]
  },
  {
   "cell_type": "code",
   "execution_count": 80,
   "id": "b59cdaf7-42b7-4267-8521-85ffce7ca083",
   "metadata": {},
   "outputs": [
    {
     "name": "stdout",
     "output_type": "stream",
     "text": [
      "<class 'numpy.ndarray'>\n",
      "(1, 2, 4)\n",
      "[[[ 2  4  6  8]\n",
      "  [20 40 60 80]]]\n"
     ]
    }
   ],
   "source": [
    "print(type(tab_3D))\n",
    "print(tab_3D.shape)\n",
    "print(tab_3D)"
   ]
  },
  {
   "cell_type": "code",
   "execution_count": 81,
   "id": "919731f8-e861-4a86-bf23-29d6380777b5",
   "metadata": {},
   "outputs": [
    {
     "data": {
      "text/plain": [
       "60"
      ]
     },
     "execution_count": 81,
     "metadata": {},
     "output_type": "execute_result"
    }
   ],
   "source": [
    "tab_3D[0][1][2]"
   ]
  },
  {
   "cell_type": "code",
   "execution_count": 82,
   "id": "bce69875-7e78-4e2e-bbbd-d27accd764c3",
   "metadata": {},
   "outputs": [],
   "source": [
    "tab_3D = np.array([[\n",
    "    [2, 4, 6, 8], [20, 40, 60, 80],\n",
    "    [200, 400, 600, 800], [2000, 4000, 6000, 8000],\n",
    "]])"
   ]
  },
  {
   "cell_type": "code",
   "execution_count": 83,
   "id": "68b82d0f-ec6c-41ed-a7ae-e5782490feeb",
   "metadata": {},
   "outputs": [
    {
     "name": "stdout",
     "output_type": "stream",
     "text": [
      "<class 'numpy.ndarray'>\n",
      "(1, 4, 4)\n",
      "[[[   2    4    6    8]\n",
      "  [  20   40   60   80]\n",
      "  [ 200  400  600  800]\n",
      "  [2000 4000 6000 8000]]]\n"
     ]
    }
   ],
   "source": [
    "print(type(tab_3D))\n",
    "print(tab_3D.shape)\n",
    "print(tab_3D)"
   ]
  },
  {
   "cell_type": "code",
   "execution_count": 84,
   "id": "77468351-5742-4f97-a9d3-3616d5ea3edd",
   "metadata": {},
   "outputs": [
    {
     "data": {
      "text/plain": [
       "800"
      ]
     },
     "execution_count": 84,
     "metadata": {},
     "output_type": "execute_result"
    }
   ],
   "source": [
    "tab_3D[0][2][3]"
   ]
  },
  {
   "cell_type": "code",
   "execution_count": 85,
   "id": "29867160-9bb8-46d4-80fa-83b66f157f1b",
   "metadata": {},
   "outputs": [],
   "source": [
    "# Tableau 4D\n",
    "tab_4D = np.array([[[\n",
    "    [1, 3, 5, 7, 9, 11, 13, 15],\n",
    "    [10, 30, 50, 70, 90, 110, 130, 150]\n",
    "]]])"
   ]
  },
  {
   "cell_type": "code",
   "execution_count": 86,
   "id": "3451ea5a-d565-4950-aefd-a6811b4033f2",
   "metadata": {},
   "outputs": [
    {
     "name": "stdout",
     "output_type": "stream",
     "text": [
      "<class 'numpy.ndarray'>\n",
      "(1, 1, 2, 8)\n",
      "[[[[  1   3   5   7   9  11  13  15]\n",
      "   [ 10  30  50  70  90 110 130 150]]]]\n"
     ]
    }
   ],
   "source": [
    "print(type(tab_4D))\n",
    "print(tab_4D.shape)\n",
    "print(tab_4D)"
   ]
  },
  {
   "cell_type": "code",
   "execution_count": 87,
   "id": "083186d9-a526-4f64-bd62-d89b619d165d",
   "metadata": {},
   "outputs": [],
   "source": [
    "tab_4D = np.array([[[\n",
    "    [1, 3, 5, 7, 9, 11, 13, 15],\n",
    "    [10, 30, 50, 70, 90, 110, 130, 150],\n",
    "    [100, 300, 500, 700, 900, 1100, 1300, 1500],\n",
    "    [1000, 3000, 5000, 7000, 9000, 11000, 13000, 15000],\n",
    "    [10000, 30000, 50000, 70000, 90000, 110000, 130000, 150000],\n",
    "]]])"
   ]
  },
  {
   "cell_type": "code",
   "execution_count": 88,
   "id": "44a97929-39ae-4429-9882-0099965ae29b",
   "metadata": {},
   "outputs": [
    {
     "name": "stdout",
     "output_type": "stream",
     "text": [
      "<class 'numpy.ndarray'>\n",
      "(1, 1, 5, 8)\n",
      "[[[[     1      3      5      7      9     11     13     15]\n",
      "   [    10     30     50     70     90    110    130    150]\n",
      "   [   100    300    500    700    900   1100   1300   1500]\n",
      "   [  1000   3000   5000   7000   9000  11000  13000  15000]\n",
      "   [ 10000  30000  50000  70000  90000 110000 130000 150000]]]]\n"
     ]
    }
   ],
   "source": [
    "print(type(tab_4D))\n",
    "print(tab_4D.shape)\n",
    "print(tab_4D)"
   ]
  },
  {
   "cell_type": "code",
   "execution_count": 89,
   "id": "899cd1b2-97b9-4b08-8e31-e87a05a7db62",
   "metadata": {},
   "outputs": [
    {
     "data": {
      "text/plain": [
       "array([[[[     1,      3,      5,      7,      9,     11,     13,\n",
       "              15],\n",
       "         [    10,     30,     50,     70,     90,    110,    130,\n",
       "             150],\n",
       "         [   100,    300,    500,    700,    900,   1100,   1300,\n",
       "            1500],\n",
       "         [  1000,   3000,   5000,   7000,   9000,  11000,  13000,\n",
       "           15000],\n",
       "         [ 10000,  30000,  50000,  70000,  90000, 110000, 130000,\n",
       "          150000]]]])"
      ]
     },
     "execution_count": 89,
     "metadata": {},
     "output_type": "execute_result"
    }
   ],
   "source": [
    "tab_4D"
   ]
  },
  {
   "cell_type": "code",
   "execution_count": 90,
   "id": "11f58f89-0b16-4360-bc20-87eebfce7c64",
   "metadata": {},
   "outputs": [
    {
     "data": {
      "text/plain": [
       "7000"
      ]
     },
     "execution_count": 90,
     "metadata": {},
     "output_type": "execute_result"
    }
   ],
   "source": [
    "tab_4D[0][0][3][3]"
   ]
  },
  {
   "cell_type": "code",
   "execution_count": 91,
   "id": "4f485d81-e549-4b0d-b9b0-811d94838f82",
   "metadata": {},
   "outputs": [],
   "source": [
    "a = np.array([10, 20, 30, 40])\n",
    "b = np.array([50, 60, 70, 80])"
   ]
  },
  {
   "cell_type": "code",
   "execution_count": 92,
   "id": "8e2f9258-c079-4f24-be4d-719b9af79cd4",
   "metadata": {},
   "outputs": [
    {
     "name": "stdout",
     "output_type": "stream",
     "text": [
      "[ 60  80 100 120]\n"
     ]
    }
   ],
   "source": [
    "print(a +  b)"
   ]
  },
  {
   "cell_type": "code",
   "execution_count": 93,
   "id": "546c8989-aa92-4043-bc31-d4df2686f003",
   "metadata": {},
   "outputs": [
    {
     "name": "stdout",
     "output_type": "stream",
     "text": [
      "[-40 -40 -40 -40]\n"
     ]
    }
   ],
   "source": [
    "print(a - b)"
   ]
  },
  {
   "cell_type": "code",
   "execution_count": 94,
   "id": "69f4017c-2d15-4534-ba54-25dc8e843809",
   "metadata": {},
   "outputs": [
    {
     "name": "stdout",
     "output_type": "stream",
     "text": [
      "[40 40 40 40]\n"
     ]
    }
   ],
   "source": [
    "print(b - a)"
   ]
  },
  {
   "cell_type": "code",
   "execution_count": 95,
   "id": "327790ea-ad7a-48bf-be18-3c33cca1bc11",
   "metadata": {},
   "outputs": [
    {
     "name": "stdout",
     "output_type": "stream",
     "text": [
      "[ 500 1200 2100 3200]\n"
     ]
    }
   ],
   "source": [
    "print(a * b)"
   ]
  },
  {
   "cell_type": "code",
   "execution_count": 96,
   "id": "e345783d-6b13-4bc8-b3ef-cdc6fe35ad1c",
   "metadata": {},
   "outputs": [
    {
     "name": "stdout",
     "output_type": "stream",
     "text": [
      "[0.2        0.33333333 0.42857143 0.5       ]\n"
     ]
    }
   ],
   "source": [
    "print(a/b)"
   ]
  },
  {
   "cell_type": "code",
   "execution_count": 97,
   "id": "ddff5ae6-68b6-4ddf-9011-65733be1be7a",
   "metadata": {},
   "outputs": [],
   "source": [
    "c = np.array([\n",
    "    [10, 20, 30, 40],\n",
    "    [100, 200, 300, 400],\n",
    "    [100, 200, 300, 400],\n",
    "])\n",
    "\n",
    "d = np.array([\n",
    "    [5, 6, 7, 8],\n",
    "    [50, 60, 70, 80],\n",
    "    [500, 600, 700, 800],\n",
    "    \n",
    "])"
   ]
  },
  {
   "cell_type": "code",
   "execution_count": 98,
   "id": "202dc355-aef0-4459-a7f3-3c1369568c50",
   "metadata": {},
   "outputs": [
    {
     "name": "stdout",
     "output_type": "stream",
     "text": [
      "<class 'numpy.ndarray'>\n",
      "(3, 4)\n",
      "[[ 10  20  30  40]\n",
      " [100 200 300 400]\n",
      " [100 200 300 400]]\n"
     ]
    }
   ],
   "source": [
    "print(type(c))\n",
    "print(c.shape)\n",
    "print(c)"
   ]
  },
  {
   "cell_type": "code",
   "execution_count": 99,
   "id": "bd498256-7473-4054-9f85-b9286638bc97",
   "metadata": {},
   "outputs": [
    {
     "name": "stdout",
     "output_type": "stream",
     "text": [
      "<class 'numpy.ndarray'>\n",
      "(3, 4)\n",
      "[[  5   6   7   8]\n",
      " [ 50  60  70  80]\n",
      " [500 600 700 800]]\n"
     ]
    }
   ],
   "source": [
    "print(type(d))\n",
    "print(d.shape)\n",
    "print(d)"
   ]
  },
  {
   "cell_type": "code",
   "execution_count": 100,
   "id": "d816d100-1c20-44dc-9aab-3797c8324757",
   "metadata": {},
   "outputs": [
    {
     "name": "stdout",
     "output_type": "stream",
     "text": [
      "[[  15   26   37   48]\n",
      " [ 150  260  370  480]\n",
      " [ 600  800 1000 1200]]\n"
     ]
    }
   ],
   "source": [
    "print(c + d)"
   ]
  },
  {
   "cell_type": "code",
   "execution_count": 101,
   "id": "77db4c2f-b5c0-44e7-8935-b2429f6bf590",
   "metadata": {},
   "outputs": [
    {
     "name": "stdout",
     "output_type": "stream",
     "text": [
      "[[   5   14   23   32]\n",
      " [  50  140  230  320]\n",
      " [-400 -400 -400 -400]]\n"
     ]
    }
   ],
   "source": [
    "print(c - d)"
   ]
  },
  {
   "cell_type": "code",
   "execution_count": 102,
   "id": "95db3951-5ad5-44dc-a717-051d8365fe2a",
   "metadata": {},
   "outputs": [
    {
     "name": "stdout",
     "output_type": "stream",
     "text": [
      "[[    50    120    210    320]\n",
      " [  5000  12000  21000  32000]\n",
      " [ 50000 120000 210000 320000]]\n"
     ]
    }
   ],
   "source": [
    "print(c * d)"
   ]
  },
  {
   "cell_type": "code",
   "execution_count": 103,
   "id": "113db230-379d-417b-be2b-b5492c5c629b",
   "metadata": {},
   "outputs": [],
   "source": [
    "# Dictionnaire\n",
    "\n",
    "mon_dictionnaire = {\n",
    "    'Nom': 'MWAMBA',\n",
    "    'Prenomn': 'KASONGO',\n",
    "    'Matricule':'2024023481',\n",
    "    'Age': 25\n",
    "}"
   ]
  },
  {
   "cell_type": "code",
   "execution_count": 104,
   "id": "1bca084f-4233-46c2-be6c-518bee253df6",
   "metadata": {},
   "outputs": [
    {
     "data": {
      "text/plain": [
       "{'Nom': 'MWAMBA', 'Prenomn': 'KASONGO', 'Matricule': '2024023481', 'Age': 25}"
      ]
     },
     "execution_count": 104,
     "metadata": {},
     "output_type": "execute_result"
    }
   ],
   "source": [
    "mon_dictionnaire"
   ]
  },
  {
   "cell_type": "code",
   "execution_count": 105,
   "id": "ca529443-fc50-454e-8900-438bbeb473cb",
   "metadata": {},
   "outputs": [
    {
     "data": {
      "text/plain": [
       "'MWAMBA'"
      ]
     },
     "execution_count": 105,
     "metadata": {},
     "output_type": "execute_result"
    }
   ],
   "source": [
    "mon_dictionnaire['Nom']"
   ]
  },
  {
   "cell_type": "code",
   "execution_count": 106,
   "id": "a1ea4d0d-7096-41e2-b20a-ca4278389c78",
   "metadata": {},
   "outputs": [],
   "source": [
    "# Dictionnaire\n",
    "\n",
    "mon_dictionnaire = {\n",
    "    'Nom': ['MWAMBA', 'ILUNGA','KAZADI', 'KAYOMBO', 'KAZEMBE'],\n",
    "    'Prenomn': ['David', 'Paul', 'Jean','Marc', 'Phillipe'],\n",
    "    'Matricule':['2024023481', '2024023482', '2024023483', '2024023484', '2024023485'],\n",
    "    'Age': [25, 24, 26, 26, 29]\n",
    "}"
   ]
  },
  {
   "cell_type": "code",
   "execution_count": 107,
   "id": "e73b0318-96c7-4988-98a7-cf31838849ef",
   "metadata": {},
   "outputs": [
    {
     "name": "stdout",
     "output_type": "stream",
     "text": [
      "{'Nom': ['MWAMBA', 'ILUNGA', 'KAZADI', 'KAYOMBO', 'KAZEMBE'], 'Prenomn': ['David', 'Paul', 'Jean', 'Marc', 'Phillipe'], 'Matricule': ['2024023481', '2024023482', '2024023483', '2024023484', '2024023485'], 'Age': [25, 24, 26, 26, 29]}\n"
     ]
    }
   ],
   "source": [
    "print(mon_dictionnaire)"
   ]
  },
  {
   "cell_type": "code",
   "execution_count": 108,
   "id": "5e0a4710-16e8-475f-be5c-21b2c7b7bf0a",
   "metadata": {},
   "outputs": [
    {
     "name": "stdout",
     "output_type": "stream",
     "text": [
      "['MWAMBA', 'ILUNGA', 'KAZADI', 'KAYOMBO', 'KAZEMBE']\n"
     ]
    }
   ],
   "source": [
    "print(mon_dictionnaire['Nom'])"
   ]
  },
  {
   "cell_type": "code",
   "execution_count": 109,
   "id": "e48e2a18-af10-4887-85c0-b422c045bd05",
   "metadata": {},
   "outputs": [],
   "source": [
    "# Creation du dataframe \n",
    "\n",
    "import pandas as pd"
   ]
  },
  {
   "cell_type": "code",
   "execution_count": 110,
   "id": "4bc4f0f6-46de-4c9d-8944-9eb5c0a722f5",
   "metadata": {},
   "outputs": [],
   "source": [
    "df = pd.DataFrame(mon_dictionnaire)"
   ]
  },
  {
   "cell_type": "code",
   "execution_count": 111,
   "id": "b94b2b1c-3132-438b-9ed2-8e6c3dd4929b",
   "metadata": {},
   "outputs": [
    {
     "data": {
      "text/html": [
       "<div>\n",
       "<style scoped>\n",
       "    .dataframe tbody tr th:only-of-type {\n",
       "        vertical-align: middle;\n",
       "    }\n",
       "\n",
       "    .dataframe tbody tr th {\n",
       "        vertical-align: top;\n",
       "    }\n",
       "\n",
       "    .dataframe thead th {\n",
       "        text-align: right;\n",
       "    }\n",
       "</style>\n",
       "<table border=\"1\" class=\"dataframe\">\n",
       "  <thead>\n",
       "    <tr style=\"text-align: right;\">\n",
       "      <th></th>\n",
       "      <th>Nom</th>\n",
       "      <th>Prenomn</th>\n",
       "      <th>Matricule</th>\n",
       "      <th>Age</th>\n",
       "    </tr>\n",
       "  </thead>\n",
       "  <tbody>\n",
       "    <tr>\n",
       "      <th>0</th>\n",
       "      <td>MWAMBA</td>\n",
       "      <td>David</td>\n",
       "      <td>2024023481</td>\n",
       "      <td>25</td>\n",
       "    </tr>\n",
       "    <tr>\n",
       "      <th>1</th>\n",
       "      <td>ILUNGA</td>\n",
       "      <td>Paul</td>\n",
       "      <td>2024023482</td>\n",
       "      <td>24</td>\n",
       "    </tr>\n",
       "    <tr>\n",
       "      <th>2</th>\n",
       "      <td>KAZADI</td>\n",
       "      <td>Jean</td>\n",
       "      <td>2024023483</td>\n",
       "      <td>26</td>\n",
       "    </tr>\n",
       "    <tr>\n",
       "      <th>3</th>\n",
       "      <td>KAYOMBO</td>\n",
       "      <td>Marc</td>\n",
       "      <td>2024023484</td>\n",
       "      <td>26</td>\n",
       "    </tr>\n",
       "    <tr>\n",
       "      <th>4</th>\n",
       "      <td>KAZEMBE</td>\n",
       "      <td>Phillipe</td>\n",
       "      <td>2024023485</td>\n",
       "      <td>29</td>\n",
       "    </tr>\n",
       "  </tbody>\n",
       "</table>\n",
       "</div>"
      ],
      "text/plain": [
       "       Nom   Prenomn   Matricule  Age\n",
       "0   MWAMBA     David  2024023481   25\n",
       "1   ILUNGA      Paul  2024023482   24\n",
       "2   KAZADI      Jean  2024023483   26\n",
       "3  KAYOMBO      Marc  2024023484   26\n",
       "4  KAZEMBE  Phillipe  2024023485   29"
      ]
     },
     "execution_count": 111,
     "metadata": {},
     "output_type": "execute_result"
    }
   ],
   "source": [
    "df"
   ]
  },
  {
   "cell_type": "code",
   "execution_count": 112,
   "id": "8d3d1f43-5022-4bea-b826-fc81784d3079",
   "metadata": {},
   "outputs": [
    {
     "data": {
      "text/plain": [
       "0     MWAMBA\n",
       "1     ILUNGA\n",
       "2     KAZADI\n",
       "3    KAYOMBO\n",
       "4    KAZEMBE\n",
       "Name: Nom, dtype: object"
      ]
     },
     "execution_count": 112,
     "metadata": {},
     "output_type": "execute_result"
    }
   ],
   "source": [
    "df['Nom']"
   ]
  },
  {
   "cell_type": "code",
   "execution_count": 113,
   "id": "9d657dd4-b00f-4c15-8ad5-0826a3d1653f",
   "metadata": {},
   "outputs": [
    {
     "data": {
      "text/plain": [
       "0    2024023481\n",
       "1    2024023482\n",
       "2    2024023483\n",
       "3    2024023484\n",
       "4    2024023485\n",
       "Name: Matricule, dtype: object"
      ]
     },
     "execution_count": 113,
     "metadata": {},
     "output_type": "execute_result"
    }
   ],
   "source": [
    "df.Matricule"
   ]
  },
  {
   "cell_type": "code",
   "execution_count": 114,
   "id": "77e14ae8-bbe4-467d-8e70-eaf0f5f107f5",
   "metadata": {},
   "outputs": [
    {
     "data": {
      "text/plain": [
       "0    False\n",
       "1    False\n",
       "2     True\n",
       "3    False\n",
       "4    False\n",
       "Name: Prenomn, dtype: bool"
      ]
     },
     "execution_count": 114,
     "metadata": {},
     "output_type": "execute_result"
    }
   ],
   "source": [
    "df['Prenomn'] == 'Jean'"
   ]
  },
  {
   "cell_type": "code",
   "execution_count": 115,
   "id": "9fec3222-0784-41ac-876c-dfd8cfbb866c",
   "metadata": {},
   "outputs": [
    {
     "data": {
      "text/html": [
       "<div>\n",
       "<style scoped>\n",
       "    .dataframe tbody tr th:only-of-type {\n",
       "        vertical-align: middle;\n",
       "    }\n",
       "\n",
       "    .dataframe tbody tr th {\n",
       "        vertical-align: top;\n",
       "    }\n",
       "\n",
       "    .dataframe thead th {\n",
       "        text-align: right;\n",
       "    }\n",
       "</style>\n",
       "<table border=\"1\" class=\"dataframe\">\n",
       "  <thead>\n",
       "    <tr style=\"text-align: right;\">\n",
       "      <th></th>\n",
       "      <th>Nom</th>\n",
       "      <th>Prenomn</th>\n",
       "      <th>Matricule</th>\n",
       "      <th>Age</th>\n",
       "    </tr>\n",
       "  </thead>\n",
       "  <tbody>\n",
       "    <tr>\n",
       "      <th>2</th>\n",
       "      <td>KAZADI</td>\n",
       "      <td>Jean</td>\n",
       "      <td>2024023483</td>\n",
       "      <td>26</td>\n",
       "    </tr>\n",
       "  </tbody>\n",
       "</table>\n",
       "</div>"
      ],
      "text/plain": [
       "      Nom Prenomn   Matricule  Age\n",
       "2  KAZADI    Jean  2024023483   26"
      ]
     },
     "execution_count": 115,
     "metadata": {},
     "output_type": "execute_result"
    }
   ],
   "source": [
    "df[df['Prenomn'] == 'Jean']"
   ]
  },
  {
   "cell_type": "code",
   "execution_count": 116,
   "id": "fb281f60-0156-4154-a799-1c6e06b3ca1d",
   "metadata": {},
   "outputs": [
    {
     "data": {
      "text/html": [
       "<div>\n",
       "<style scoped>\n",
       "    .dataframe tbody tr th:only-of-type {\n",
       "        vertical-align: middle;\n",
       "    }\n",
       "\n",
       "    .dataframe tbody tr th {\n",
       "        vertical-align: top;\n",
       "    }\n",
       "\n",
       "    .dataframe thead th {\n",
       "        text-align: right;\n",
       "    }\n",
       "</style>\n",
       "<table border=\"1\" class=\"dataframe\">\n",
       "  <thead>\n",
       "    <tr style=\"text-align: right;\">\n",
       "      <th></th>\n",
       "      <th>Nom</th>\n",
       "      <th>Prenomn</th>\n",
       "      <th>Matricule</th>\n",
       "      <th>Age</th>\n",
       "    </tr>\n",
       "  </thead>\n",
       "  <tbody>\n",
       "    <tr>\n",
       "      <th>0</th>\n",
       "      <td>MWAMBA</td>\n",
       "      <td>David</td>\n",
       "      <td>2024023481</td>\n",
       "      <td>25</td>\n",
       "    </tr>\n",
       "    <tr>\n",
       "      <th>1</th>\n",
       "      <td>ILUNGA</td>\n",
       "      <td>Paul</td>\n",
       "      <td>2024023482</td>\n",
       "      <td>24</td>\n",
       "    </tr>\n",
       "    <tr>\n",
       "      <th>2</th>\n",
       "      <td>KAZADI</td>\n",
       "      <td>Jean</td>\n",
       "      <td>2024023483</td>\n",
       "      <td>26</td>\n",
       "    </tr>\n",
       "    <tr>\n",
       "      <th>3</th>\n",
       "      <td>KAYOMBO</td>\n",
       "      <td>Marc</td>\n",
       "      <td>2024023484</td>\n",
       "      <td>26</td>\n",
       "    </tr>\n",
       "    <tr>\n",
       "      <th>4</th>\n",
       "      <td>KAZEMBE</td>\n",
       "      <td>Phillipe</td>\n",
       "      <td>2024023485</td>\n",
       "      <td>29</td>\n",
       "    </tr>\n",
       "  </tbody>\n",
       "</table>\n",
       "</div>"
      ],
      "text/plain": [
       "       Nom   Prenomn   Matricule  Age\n",
       "0   MWAMBA     David  2024023481   25\n",
       "1   ILUNGA      Paul  2024023482   24\n",
       "2   KAZADI      Jean  2024023483   26\n",
       "3  KAYOMBO      Marc  2024023484   26\n",
       "4  KAZEMBE  Phillipe  2024023485   29"
      ]
     },
     "execution_count": 116,
     "metadata": {},
     "output_type": "execute_result"
    }
   ],
   "source": [
    "df"
   ]
  },
  {
   "cell_type": "code",
   "execution_count": 117,
   "id": "3bd8b668-870f-4646-90b6-17940181776a",
   "metadata": {},
   "outputs": [
    {
     "data": {
      "text/html": [
       "<div>\n",
       "<style scoped>\n",
       "    .dataframe tbody tr th:only-of-type {\n",
       "        vertical-align: middle;\n",
       "    }\n",
       "\n",
       "    .dataframe tbody tr th {\n",
       "        vertical-align: top;\n",
       "    }\n",
       "\n",
       "    .dataframe thead th {\n",
       "        text-align: right;\n",
       "    }\n",
       "</style>\n",
       "<table border=\"1\" class=\"dataframe\">\n",
       "  <thead>\n",
       "    <tr style=\"text-align: right;\">\n",
       "      <th></th>\n",
       "      <th>Nom</th>\n",
       "      <th>Prenomn</th>\n",
       "      <th>Matricule</th>\n",
       "      <th>Age</th>\n",
       "    </tr>\n",
       "  </thead>\n",
       "  <tbody>\n",
       "    <tr>\n",
       "      <th>2</th>\n",
       "      <td>KAZADI</td>\n",
       "      <td>Jean</td>\n",
       "      <td>2024023483</td>\n",
       "      <td>26</td>\n",
       "    </tr>\n",
       "    <tr>\n",
       "      <th>3</th>\n",
       "      <td>KAYOMBO</td>\n",
       "      <td>Marc</td>\n",
       "      <td>2024023484</td>\n",
       "      <td>26</td>\n",
       "    </tr>\n",
       "    <tr>\n",
       "      <th>4</th>\n",
       "      <td>KAZEMBE</td>\n",
       "      <td>Phillipe</td>\n",
       "      <td>2024023485</td>\n",
       "      <td>29</td>\n",
       "    </tr>\n",
       "  </tbody>\n",
       "</table>\n",
       "</div>"
      ],
      "text/plain": [
       "       Nom   Prenomn   Matricule  Age\n",
       "2   KAZADI      Jean  2024023483   26\n",
       "3  KAYOMBO      Marc  2024023484   26\n",
       "4  KAZEMBE  Phillipe  2024023485   29"
      ]
     },
     "execution_count": 117,
     "metadata": {},
     "output_type": "execute_result"
    }
   ],
   "source": [
    "df.loc[ 2: , :]"
   ]
  },
  {
   "cell_type": "code",
   "execution_count": 118,
   "id": "277eba09-cf79-4211-8c87-47bf49755b9a",
   "metadata": {},
   "outputs": [
    {
     "data": {
      "text/html": [
       "<div>\n",
       "<style scoped>\n",
       "    .dataframe tbody tr th:only-of-type {\n",
       "        vertical-align: middle;\n",
       "    }\n",
       "\n",
       "    .dataframe tbody tr th {\n",
       "        vertical-align: top;\n",
       "    }\n",
       "\n",
       "    .dataframe thead th {\n",
       "        text-align: right;\n",
       "    }\n",
       "</style>\n",
       "<table border=\"1\" class=\"dataframe\">\n",
       "  <thead>\n",
       "    <tr style=\"text-align: right;\">\n",
       "      <th></th>\n",
       "      <th>Matricule</th>\n",
       "      <th>Age</th>\n",
       "    </tr>\n",
       "  </thead>\n",
       "  <tbody>\n",
       "    <tr>\n",
       "      <th>2</th>\n",
       "      <td>2024023483</td>\n",
       "      <td>26</td>\n",
       "    </tr>\n",
       "    <tr>\n",
       "      <th>3</th>\n",
       "      <td>2024023484</td>\n",
       "      <td>26</td>\n",
       "    </tr>\n",
       "    <tr>\n",
       "      <th>4</th>\n",
       "      <td>2024023485</td>\n",
       "      <td>29</td>\n",
       "    </tr>\n",
       "  </tbody>\n",
       "</table>\n",
       "</div>"
      ],
      "text/plain": [
       "    Matricule  Age\n",
       "2  2024023483   26\n",
       "3  2024023484   26\n",
       "4  2024023485   29"
      ]
     },
     "execution_count": 118,
     "metadata": {},
     "output_type": "execute_result"
    }
   ],
   "source": [
    "df.iloc[ 2: , 2: ]"
   ]
  },
  {
   "cell_type": "code",
   "execution_count": 119,
   "id": "8b07a658-737b-4458-b08a-342af1617e60",
   "metadata": {},
   "outputs": [
    {
     "data": {
      "text/html": [
       "<div>\n",
       "<style scoped>\n",
       "    .dataframe tbody tr th:only-of-type {\n",
       "        vertical-align: middle;\n",
       "    }\n",
       "\n",
       "    .dataframe tbody tr th {\n",
       "        vertical-align: top;\n",
       "    }\n",
       "\n",
       "    .dataframe thead th {\n",
       "        text-align: right;\n",
       "    }\n",
       "</style>\n",
       "<table border=\"1\" class=\"dataframe\">\n",
       "  <thead>\n",
       "    <tr style=\"text-align: right;\">\n",
       "      <th></th>\n",
       "      <th>Nom</th>\n",
       "      <th>Prenomn</th>\n",
       "      <th>Matricule</th>\n",
       "    </tr>\n",
       "  </thead>\n",
       "  <tbody>\n",
       "    <tr>\n",
       "      <th>0</th>\n",
       "      <td>MWAMBA</td>\n",
       "      <td>David</td>\n",
       "      <td>2024023481</td>\n",
       "    </tr>\n",
       "    <tr>\n",
       "      <th>1</th>\n",
       "      <td>ILUNGA</td>\n",
       "      <td>Paul</td>\n",
       "      <td>2024023482</td>\n",
       "    </tr>\n",
       "    <tr>\n",
       "      <th>2</th>\n",
       "      <td>KAZADI</td>\n",
       "      <td>Jean</td>\n",
       "      <td>2024023483</td>\n",
       "    </tr>\n",
       "    <tr>\n",
       "      <th>3</th>\n",
       "      <td>KAYOMBO</td>\n",
       "      <td>Marc</td>\n",
       "      <td>2024023484</td>\n",
       "    </tr>\n",
       "    <tr>\n",
       "      <th>4</th>\n",
       "      <td>KAZEMBE</td>\n",
       "      <td>Phillipe</td>\n",
       "      <td>2024023485</td>\n",
       "    </tr>\n",
       "  </tbody>\n",
       "</table>\n",
       "</div>"
      ],
      "text/plain": [
       "       Nom   Prenomn   Matricule\n",
       "0   MWAMBA     David  2024023481\n",
       "1   ILUNGA      Paul  2024023482\n",
       "2   KAZADI      Jean  2024023483\n",
       "3  KAYOMBO      Marc  2024023484\n",
       "4  KAZEMBE  Phillipe  2024023485"
      ]
     },
     "execution_count": 119,
     "metadata": {},
     "output_type": "execute_result"
    }
   ],
   "source": [
    "df.iloc[: , :-1]"
   ]
  },
  {
   "cell_type": "code",
   "execution_count": 120,
   "id": "518d3cab-d342-4adb-b324-f77b587fac26",
   "metadata": {},
   "outputs": [
    {
     "data": {
      "text/plain": [
       "0    25\n",
       "1    24\n",
       "2    26\n",
       "3    26\n",
       "4    29\n",
       "Name: Age, dtype: int64"
      ]
     },
     "execution_count": 120,
     "metadata": {},
     "output_type": "execute_result"
    }
   ],
   "source": [
    "df.iloc[: , -1]"
   ]
  },
  {
   "cell_type": "code",
   "execution_count": 121,
   "id": "b9a5e988-7846-4106-bd4d-c4a460306fda",
   "metadata": {},
   "outputs": [
    {
     "data": {
      "text/html": [
       "<div>\n",
       "<style scoped>\n",
       "    .dataframe tbody tr th:only-of-type {\n",
       "        vertical-align: middle;\n",
       "    }\n",
       "\n",
       "    .dataframe tbody tr th {\n",
       "        vertical-align: top;\n",
       "    }\n",
       "\n",
       "    .dataframe thead th {\n",
       "        text-align: right;\n",
       "    }\n",
       "</style>\n",
       "<table border=\"1\" class=\"dataframe\">\n",
       "  <thead>\n",
       "    <tr style=\"text-align: right;\">\n",
       "      <th></th>\n",
       "      <th>Nom</th>\n",
       "      <th>Prenomn</th>\n",
       "      <th>Matricule</th>\n",
       "      <th>Age</th>\n",
       "    </tr>\n",
       "  </thead>\n",
       "  <tbody>\n",
       "    <tr>\n",
       "      <th>0</th>\n",
       "      <td>MWAMBA</td>\n",
       "      <td>David</td>\n",
       "      <td>2024023481</td>\n",
       "      <td>25</td>\n",
       "    </tr>\n",
       "    <tr>\n",
       "      <th>1</th>\n",
       "      <td>ILUNGA</td>\n",
       "      <td>Paul</td>\n",
       "      <td>2024023482</td>\n",
       "      <td>24</td>\n",
       "    </tr>\n",
       "    <tr>\n",
       "      <th>2</th>\n",
       "      <td>KAZADI</td>\n",
       "      <td>Jean</td>\n",
       "      <td>2024023483</td>\n",
       "      <td>26</td>\n",
       "    </tr>\n",
       "    <tr>\n",
       "      <th>3</th>\n",
       "      <td>KAYOMBO</td>\n",
       "      <td>Marc</td>\n",
       "      <td>2024023484</td>\n",
       "      <td>26</td>\n",
       "    </tr>\n",
       "    <tr>\n",
       "      <th>4</th>\n",
       "      <td>KAZEMBE</td>\n",
       "      <td>Phillipe</td>\n",
       "      <td>2024023485</td>\n",
       "      <td>29</td>\n",
       "    </tr>\n",
       "  </tbody>\n",
       "</table>\n",
       "</div>"
      ],
      "text/plain": [
       "       Nom   Prenomn   Matricule  Age\n",
       "0   MWAMBA     David  2024023481   25\n",
       "1   ILUNGA      Paul  2024023482   24\n",
       "2   KAZADI      Jean  2024023483   26\n",
       "3  KAYOMBO      Marc  2024023484   26\n",
       "4  KAZEMBE  Phillipe  2024023485   29"
      ]
     },
     "execution_count": 121,
     "metadata": {},
     "output_type": "execute_result"
    }
   ],
   "source": [
    "df"
   ]
  },
  {
   "cell_type": "code",
   "execution_count": 122,
   "id": "337bfaf9-4a4d-45fb-9d00-bde81cce2105",
   "metadata": {},
   "outputs": [],
   "source": [
    "df['Genre'] = ['Male', 'Female', 'Male', 'Female', 'Male']"
   ]
  },
  {
   "cell_type": "code",
   "execution_count": 123,
   "id": "c8a6d8b4-08dc-4d56-af2c-787beea48d10",
   "metadata": {},
   "outputs": [
    {
     "data": {
      "text/html": [
       "<div>\n",
       "<style scoped>\n",
       "    .dataframe tbody tr th:only-of-type {\n",
       "        vertical-align: middle;\n",
       "    }\n",
       "\n",
       "    .dataframe tbody tr th {\n",
       "        vertical-align: top;\n",
       "    }\n",
       "\n",
       "    .dataframe thead th {\n",
       "        text-align: right;\n",
       "    }\n",
       "</style>\n",
       "<table border=\"1\" class=\"dataframe\">\n",
       "  <thead>\n",
       "    <tr style=\"text-align: right;\">\n",
       "      <th></th>\n",
       "      <th>Nom</th>\n",
       "      <th>Prenomn</th>\n",
       "      <th>Matricule</th>\n",
       "      <th>Age</th>\n",
       "      <th>Genre</th>\n",
       "    </tr>\n",
       "  </thead>\n",
       "  <tbody>\n",
       "    <tr>\n",
       "      <th>0</th>\n",
       "      <td>MWAMBA</td>\n",
       "      <td>David</td>\n",
       "      <td>2024023481</td>\n",
       "      <td>25</td>\n",
       "      <td>Male</td>\n",
       "    </tr>\n",
       "    <tr>\n",
       "      <th>1</th>\n",
       "      <td>ILUNGA</td>\n",
       "      <td>Paul</td>\n",
       "      <td>2024023482</td>\n",
       "      <td>24</td>\n",
       "      <td>Female</td>\n",
       "    </tr>\n",
       "    <tr>\n",
       "      <th>2</th>\n",
       "      <td>KAZADI</td>\n",
       "      <td>Jean</td>\n",
       "      <td>2024023483</td>\n",
       "      <td>26</td>\n",
       "      <td>Male</td>\n",
       "    </tr>\n",
       "    <tr>\n",
       "      <th>3</th>\n",
       "      <td>KAYOMBO</td>\n",
       "      <td>Marc</td>\n",
       "      <td>2024023484</td>\n",
       "      <td>26</td>\n",
       "      <td>Female</td>\n",
       "    </tr>\n",
       "    <tr>\n",
       "      <th>4</th>\n",
       "      <td>KAZEMBE</td>\n",
       "      <td>Phillipe</td>\n",
       "      <td>2024023485</td>\n",
       "      <td>29</td>\n",
       "      <td>Male</td>\n",
       "    </tr>\n",
       "  </tbody>\n",
       "</table>\n",
       "</div>"
      ],
      "text/plain": [
       "       Nom   Prenomn   Matricule  Age   Genre\n",
       "0   MWAMBA     David  2024023481   25    Male\n",
       "1   ILUNGA      Paul  2024023482   24  Female\n",
       "2   KAZADI      Jean  2024023483   26    Male\n",
       "3  KAYOMBO      Marc  2024023484   26  Female\n",
       "4  KAZEMBE  Phillipe  2024023485   29    Male"
      ]
     },
     "execution_count": 123,
     "metadata": {},
     "output_type": "execute_result"
    }
   ],
   "source": [
    "df"
   ]
  },
  {
   "cell_type": "code",
   "execution_count": 124,
   "id": "8116d457-701c-4f9e-b45d-2c1147037bcb",
   "metadata": {},
   "outputs": [],
   "source": [
    "df['Genre'] = np.where(df['Genre'] == 'Male', 1, 0)"
   ]
  },
  {
   "cell_type": "code",
   "execution_count": 125,
   "id": "53f3d4ff-9dc2-4f3b-a69c-7693849966be",
   "metadata": {},
   "outputs": [
    {
     "data": {
      "text/html": [
       "<div>\n",
       "<style scoped>\n",
       "    .dataframe tbody tr th:only-of-type {\n",
       "        vertical-align: middle;\n",
       "    }\n",
       "\n",
       "    .dataframe tbody tr th {\n",
       "        vertical-align: top;\n",
       "    }\n",
       "\n",
       "    .dataframe thead th {\n",
       "        text-align: right;\n",
       "    }\n",
       "</style>\n",
       "<table border=\"1\" class=\"dataframe\">\n",
       "  <thead>\n",
       "    <tr style=\"text-align: right;\">\n",
       "      <th></th>\n",
       "      <th>Nom</th>\n",
       "      <th>Prenomn</th>\n",
       "      <th>Matricule</th>\n",
       "      <th>Age</th>\n",
       "      <th>Genre</th>\n",
       "    </tr>\n",
       "  </thead>\n",
       "  <tbody>\n",
       "    <tr>\n",
       "      <th>0</th>\n",
       "      <td>MWAMBA</td>\n",
       "      <td>David</td>\n",
       "      <td>2024023481</td>\n",
       "      <td>25</td>\n",
       "      <td>1</td>\n",
       "    </tr>\n",
       "    <tr>\n",
       "      <th>1</th>\n",
       "      <td>ILUNGA</td>\n",
       "      <td>Paul</td>\n",
       "      <td>2024023482</td>\n",
       "      <td>24</td>\n",
       "      <td>0</td>\n",
       "    </tr>\n",
       "    <tr>\n",
       "      <th>2</th>\n",
       "      <td>KAZADI</td>\n",
       "      <td>Jean</td>\n",
       "      <td>2024023483</td>\n",
       "      <td>26</td>\n",
       "      <td>1</td>\n",
       "    </tr>\n",
       "    <tr>\n",
       "      <th>3</th>\n",
       "      <td>KAYOMBO</td>\n",
       "      <td>Marc</td>\n",
       "      <td>2024023484</td>\n",
       "      <td>26</td>\n",
       "      <td>0</td>\n",
       "    </tr>\n",
       "    <tr>\n",
       "      <th>4</th>\n",
       "      <td>KAZEMBE</td>\n",
       "      <td>Phillipe</td>\n",
       "      <td>2024023485</td>\n",
       "      <td>29</td>\n",
       "      <td>1</td>\n",
       "    </tr>\n",
       "  </tbody>\n",
       "</table>\n",
       "</div>"
      ],
      "text/plain": [
       "       Nom   Prenomn   Matricule  Age  Genre\n",
       "0   MWAMBA     David  2024023481   25      1\n",
       "1   ILUNGA      Paul  2024023482   24      0\n",
       "2   KAZADI      Jean  2024023483   26      1\n",
       "3  KAYOMBO      Marc  2024023484   26      0\n",
       "4  KAZEMBE  Phillipe  2024023485   29      1"
      ]
     },
     "execution_count": 125,
     "metadata": {},
     "output_type": "execute_result"
    }
   ],
   "source": [
    "df"
   ]
  },
  {
   "cell_type": "code",
   "execution_count": 126,
   "id": "1b740aea-269f-45f5-8e1f-9e8c2dd25d8f",
   "metadata": {},
   "outputs": [],
   "source": [
    "#df = df.drop('Matricule', axis=1, inplace=True)"
   ]
  },
  {
   "cell_type": "code",
   "execution_count": 127,
   "id": "bf362929-2e3c-4276-bba9-6045cacafc2a",
   "metadata": {},
   "outputs": [],
   "source": [
    "#df.drop(['Matricule'], axis=1, inplace=True)"
   ]
  },
  {
   "cell_type": "code",
   "execution_count": 128,
   "id": "a5e50de9-93e0-4b01-93c7-4ebbc985ddd7",
   "metadata": {},
   "outputs": [],
   "source": [
    "import matplotlib.pyplot as plt"
   ]
  },
  {
   "cell_type": "code",
   "execution_count": 135,
   "id": "042b6885-06ce-4040-afc3-0ae46cc8703e",
   "metadata": {},
   "outputs": [
    {
     "name": "stdout",
     "output_type": "stream",
     "text": [
      "[0.         0.02020202 0.04040404 0.06060606 0.08080808 0.1010101\n",
      " 0.12121212 0.14141414 0.16161616 0.18181818 0.2020202  0.22222222\n",
      " 0.24242424 0.26262626 0.28282828 0.3030303  0.32323232 0.34343434\n",
      " 0.36363636 0.38383838 0.4040404  0.42424242 0.44444444 0.46464646\n",
      " 0.48484848 0.50505051 0.52525253 0.54545455 0.56565657 0.58585859\n",
      " 0.60606061 0.62626263 0.64646465 0.66666667 0.68686869 0.70707071\n",
      " 0.72727273 0.74747475 0.76767677 0.78787879 0.80808081 0.82828283\n",
      " 0.84848485 0.86868687 0.88888889 0.90909091 0.92929293 0.94949495\n",
      " 0.96969697 0.98989899 1.01010101 1.03030303 1.05050505 1.07070707\n",
      " 1.09090909 1.11111111 1.13131313 1.15151515 1.17171717 1.19191919\n",
      " 1.21212121 1.23232323 1.25252525 1.27272727 1.29292929 1.31313131\n",
      " 1.33333333 1.35353535 1.37373737 1.39393939 1.41414141 1.43434343\n",
      " 1.45454545 1.47474747 1.49494949 1.51515152 1.53535354 1.55555556\n",
      " 1.57575758 1.5959596  1.61616162 1.63636364 1.65656566 1.67676768\n",
      " 1.6969697  1.71717172 1.73737374 1.75757576 1.77777778 1.7979798\n",
      " 1.81818182 1.83838384 1.85858586 1.87878788 1.8989899  1.91919192\n",
      " 1.93939394 1.95959596 1.97979798 2.        ]\n"
     ]
    }
   ],
   "source": [
    "x = np.linspace(0, 2, 100)\n",
    "print(x)"
   ]
  },
  {
   "cell_type": "code",
   "execution_count": 139,
   "id": "b441e31f-d507-4e65-a0c7-eb6877edb1cc",
   "metadata": {},
   "outputs": [
    {
     "data": {
      "text/plain": [
       "<matplotlib.legend.Legend at 0x15312d2a110>"
      ]
     },
     "execution_count": 139,
     "metadata": {},
     "output_type": "execute_result"
    },
    {
     "data": {
      "image/png": "[encoded data removed]",
      "text/plain": [
       "<Figure size 800x400 with 1 Axes>"
      ]
     },
     "metadata": {},
     "output_type": "display_data"
    }
   ],
   "source": [
    "# Creation d'une figure\n",
    "fig, ax = plt.subplots(figsize=(8, 4))\n",
    "ax.plot(x, x, label='Linear')\n",
    "ax.plot(x, x**2, label='Double')\n",
    "ax.plot(x, x**3, label='Cube')\n",
    "ax.plot(x, x*3 , label='Cube')\n",
    "ax.set_xlabel(' X label')\n",
    "ax.set_ylabel('Y Label')\n",
    "ax.legend()"
   ]
  },
  {
   "cell_type": "code",
   "execution_count": 140,
   "id": "5c4b669f-ff44-4e2b-b740-7a3366adeb43",
   "metadata": {},
   "outputs": [],
   "source": [
    "import seaborn as sns"
   ]
  },
  {
   "cell_type": "code",
   "execution_count": 141,
   "id": "b9f91bef-fc7f-499e-80ef-a2013404ccd6",
   "metadata": {},
   "outputs": [],
   "source": [
    "iris_data = sns.load_dataset('iris')"
   ]
  },
  {
   "cell_type": "code",
   "execution_count": 142,
   "id": "cab7e87b-3933-4b24-90a8-f6b2c038c10d",
   "metadata": {},
   "outputs": [
    {
     "data": {
      "text/html": [
       "<div>\n",
       "<style scoped>\n",
       "    .dataframe tbody tr th:only-of-type {\n",
       "        vertical-align: middle;\n",
       "    }\n",
       "\n",
       "    .dataframe tbody tr th {\n",
       "        vertical-align: top;\n",
       "    }\n",
       "\n",
       "    .dataframe thead th {\n",
       "        text-align: right;\n",
       "    }\n",
       "</style>\n",
       "<table border=\"1\" class=\"dataframe\">\n",
       "  <thead>\n",
       "    <tr style=\"text-align: right;\">\n",
       "      <th></th>\n",
       "      <th>sepal_length</th>\n",
       "      <th>sepal_width</th>\n",
       "      <th>petal_length</th>\n",
       "      <th>petal_width</th>\n",
       "      <th>species</th>\n",
       "    </tr>\n",
       "  </thead>\n",
       "  <tbody>\n",
       "    <tr>\n",
       "      <th>0</th>\n",
       "      <td>5.1</td>\n",
       "      <td>3.5</td>\n",
       "      <td>1.4</td>\n",
       "      <td>0.2</td>\n",
       "      <td>setosa</td>\n",
       "    </tr>\n",
       "    <tr>\n",
       "      <th>1</th>\n",
       "      <td>4.9</td>\n",
       "      <td>3.0</td>\n",
       "      <td>1.4</td>\n",
       "      <td>0.2</td>\n",
       "      <td>setosa</td>\n",
       "    </tr>\n",
       "    <tr>\n",
       "      <th>2</th>\n",
       "      <td>4.7</td>\n",
       "      <td>3.2</td>\n",
       "      <td>1.3</td>\n",
       "      <td>0.2</td>\n",
       "      <td>setosa</td>\n",
       "    </tr>\n",
       "    <tr>\n",
       "      <th>3</th>\n",
       "      <td>4.6</td>\n",
       "      <td>3.1</td>\n",
       "      <td>1.5</td>\n",
       "      <td>0.2</td>\n",
       "      <td>setosa</td>\n",
       "    </tr>\n",
       "    <tr>\n",
       "      <th>4</th>\n",
       "      <td>5.0</td>\n",
       "      <td>3.6</td>\n",
       "      <td>1.4</td>\n",
       "      <td>0.2</td>\n",
       "      <td>setosa</td>\n",
       "    </tr>\n",
       "    <tr>\n",
       "      <th>...</th>\n",
       "      <td>...</td>\n",
       "      <td>...</td>\n",
       "      <td>...</td>\n",
       "      <td>...</td>\n",
       "      <td>...</td>\n",
       "    </tr>\n",
       "    <tr>\n",
       "      <th>145</th>\n",
       "      <td>6.7</td>\n",
       "      <td>3.0</td>\n",
       "      <td>5.2</td>\n",
       "      <td>2.3</td>\n",
       "      <td>virginica</td>\n",
       "    </tr>\n",
       "    <tr>\n",
       "      <th>146</th>\n",
       "      <td>6.3</td>\n",
       "      <td>2.5</td>\n",
       "      <td>5.0</td>\n",
       "      <td>1.9</td>\n",
       "      <td>virginica</td>\n",
       "    </tr>\n",
       "    <tr>\n",
       "      <th>147</th>\n",
       "      <td>6.5</td>\n",
       "      <td>3.0</td>\n",
       "      <td>5.2</td>\n",
       "      <td>2.0</td>\n",
       "      <td>virginica</td>\n",
       "    </tr>\n",
       "    <tr>\n",
       "      <th>148</th>\n",
       "      <td>6.2</td>\n",
       "      <td>3.4</td>\n",
       "      <td>5.4</td>\n",
       "      <td>2.3</td>\n",
       "      <td>virginica</td>\n",
       "    </tr>\n",
       "    <tr>\n",
       "      <th>149</th>\n",
       "      <td>5.9</td>\n",
       "      <td>3.0</td>\n",
       "      <td>5.1</td>\n",
       "      <td>1.8</td>\n",
       "      <td>virginica</td>\n",
       "    </tr>\n",
       "  </tbody>\n",
       "</table>\n",
       "<p>150 rows × 5 columns</p>\n",
       "</div>"
      ],
      "text/plain": [
       "     sepal_length  sepal_width  petal_length  petal_width    species\n",
       "0             5.1          3.5           1.4          0.2     setosa\n",
       "1             4.9          3.0           1.4          0.2     setosa\n",
       "2             4.7          3.2           1.3          0.2     setosa\n",
       "3             4.6          3.1           1.5          0.2     setosa\n",
       "4             5.0          3.6           1.4          0.2     setosa\n",
       "..            ...          ...           ...          ...        ...\n",
       "145           6.7          3.0           5.2          2.3  virginica\n",
       "146           6.3          2.5           5.0          1.9  virginica\n",
       "147           6.5          3.0           5.2          2.0  virginica\n",
       "148           6.2          3.4           5.4          2.3  virginica\n",
       "149           5.9          3.0           5.1          1.8  virginica\n",
       "\n",
       "[150 rows x 5 columns]"
      ]
     },
     "execution_count": 142,
     "metadata": {},
     "output_type": "execute_result"
    }
   ],
   "source": [
    "iris_data"
   ]
  },
  {
   "cell_type": "code",
   "execution_count": 148,
   "id": "f87f40a9-c350-4182-b39d-d2f9c9e28c7d",
   "metadata": {},
   "outputs": [
    {
     "data": {
      "image/png": "[encoded data removed]",
      "text/plain": [
       "<Figure size 640x480 with 1 Axes>"
      ]
     },
     "metadata": {},
     "output_type": "display_data"
    }
   ],
   "source": [
    "sns.scatterplot(x = 'sepal_length', y = 'sepal_width', data=iris_data, hue='species')\n",
    "plt.xlabel(\"Longueur\")\n",
    "plt.ylabel('Largeur')\n",
    "plt.title(\"Speciement\")\n",
    "plt.show()"
   ]
  },
  {
   "cell_type": "code",
   "execution_count": 152,
   "id": "0368956b-7309-4d62-8e1c-ad8a5d9c562c",
   "metadata": {},
   "outputs": [
    {
     "data": {
      "text/plain": [
       "species\n",
       "setosa        50\n",
       "versicolor    50\n",
       "virginica     50\n",
       "Name: count, dtype: int64"
      ]
     },
     "execution_count": 152,
     "metadata": {},
     "output_type": "execute_result"
    }
   ],
   "source": [
    "iris_data['species'].value_counts()"
   ]
  },
  {
   "cell_type": "code",
   "execution_count": 154,
   "id": "300249d2-89fd-4942-a794-323da5a248e4",
   "metadata": {},
   "outputs": [],
   "source": [
    "# Mapping_Species \n",
    "Mapping_Species = {\n",
    "    'setosa': 0,\n",
    "    'versicolor': 1,\n",
    "    'virginica': 2\n",
    "} \n",
    "\n",
    "iris_data['species'] = iris_data['species'].map(Mapping_Species)"
   ]
  },
  {
   "cell_type": "code",
   "execution_count": 155,
   "id": "cf364961-a16f-49a7-acd1-fb8d860f8ae4",
   "metadata": {},
   "outputs": [
    {
     "data": {
      "text/html": [
       "<div>\n",
       "<style scoped>\n",
       "    .dataframe tbody tr th:only-of-type {\n",
       "        vertical-align: middle;\n",
       "    }\n",
       "\n",
       "    .dataframe tbody tr th {\n",
       "        vertical-align: top;\n",
       "    }\n",
       "\n",
       "    .dataframe thead th {\n",
       "        text-align: right;\n",
       "    }\n",
       "</style>\n",
       "<table border=\"1\" class=\"dataframe\">\n",
       "  <thead>\n",
       "    <tr style=\"text-align: right;\">\n",
       "      <th></th>\n",
       "      <th>sepal_length</th>\n",
       "      <th>sepal_width</th>\n",
       "      <th>petal_length</th>\n",
       "      <th>petal_width</th>\n",
       "      <th>species</th>\n",
       "    </tr>\n",
       "  </thead>\n",
       "  <tbody>\n",
       "    <tr>\n",
       "      <th>0</th>\n",
       "      <td>5.1</td>\n",
       "      <td>3.5</td>\n",
       "      <td>1.4</td>\n",
       "      <td>0.2</td>\n",
       "      <td>0</td>\n",
       "    </tr>\n",
       "    <tr>\n",
       "      <th>1</th>\n",
       "      <td>4.9</td>\n",
       "      <td>3.0</td>\n",
       "      <td>1.4</td>\n",
       "      <td>0.2</td>\n",
       "      <td>0</td>\n",
       "    </tr>\n",
       "    <tr>\n",
       "      <th>2</th>\n",
       "      <td>4.7</td>\n",
       "      <td>3.2</td>\n",
       "      <td>1.3</td>\n",
       "      <td>0.2</td>\n",
       "      <td>0</td>\n",
       "    </tr>\n",
       "    <tr>\n",
       "      <th>3</th>\n",
       "      <td>4.6</td>\n",
       "      <td>3.1</td>\n",
       "      <td>1.5</td>\n",
       "      <td>0.2</td>\n",
       "      <td>0</td>\n",
       "    </tr>\n",
       "    <tr>\n",
       "      <th>4</th>\n",
       "      <td>5.0</td>\n",
       "      <td>3.6</td>\n",
       "      <td>1.4</td>\n",
       "      <td>0.2</td>\n",
       "      <td>0</td>\n",
       "    </tr>\n",
       "    <tr>\n",
       "      <th>...</th>\n",
       "      <td>...</td>\n",
       "      <td>...</td>\n",
       "      <td>...</td>\n",
       "      <td>...</td>\n",
       "      <td>...</td>\n",
       "    </tr>\n",
       "    <tr>\n",
       "      <th>145</th>\n",
       "      <td>6.7</td>\n",
       "      <td>3.0</td>\n",
       "      <td>5.2</td>\n",
       "      <td>2.3</td>\n",
       "      <td>2</td>\n",
       "    </tr>\n",
       "    <tr>\n",
       "      <th>146</th>\n",
       "      <td>6.3</td>\n",
       "      <td>2.5</td>\n",
       "      <td>5.0</td>\n",
       "      <td>1.9</td>\n",
       "      <td>2</td>\n",
       "    </tr>\n",
       "    <tr>\n",
       "      <th>147</th>\n",
       "      <td>6.5</td>\n",
       "      <td>3.0</td>\n",
       "      <td>5.2</td>\n",
       "      <td>2.0</td>\n",
       "      <td>2</td>\n",
       "    </tr>\n",
       "    <tr>\n",
       "      <th>148</th>\n",
       "      <td>6.2</td>\n",
       "      <td>3.4</td>\n",
       "      <td>5.4</td>\n",
       "      <td>2.3</td>\n",
       "      <td>2</td>\n",
       "    </tr>\n",
       "    <tr>\n",
       "      <th>149</th>\n",
       "      <td>5.9</td>\n",
       "      <td>3.0</td>\n",
       "      <td>5.1</td>\n",
       "      <td>1.8</td>\n",
       "      <td>2</td>\n",
       "    </tr>\n",
       "  </tbody>\n",
       "</table>\n",
       "<p>150 rows × 5 columns</p>\n",
       "</div>"
      ],
      "text/plain": [
       "     sepal_length  sepal_width  petal_length  petal_width  species\n",
       "0             5.1          3.5           1.4          0.2        0\n",
       "1             4.9          3.0           1.4          0.2        0\n",
       "2             4.7          3.2           1.3          0.2        0\n",
       "3             4.6          3.1           1.5          0.2        0\n",
       "4             5.0          3.6           1.4          0.2        0\n",
       "..            ...          ...           ...          ...      ...\n",
       "145           6.7          3.0           5.2          2.3        2\n",
       "146           6.3          2.5           5.0          1.9        2\n",
       "147           6.5          3.0           5.2          2.0        2\n",
       "148           6.2          3.4           5.4          2.3        2\n",
       "149           5.9          3.0           5.1          1.8        2\n",
       "\n",
       "[150 rows x 5 columns]"
      ]
     },
     "execution_count": 155,
     "metadata": {},
     "output_type": "execute_result"
    }
   ],
   "source": [
    "iris_data"
   ]
  },
  {
   "cell_type": "code",
   "execution_count": 156,
   "id": "44ddd676-d09a-4542-abc6-414f067be275",
   "metadata": {},
   "outputs": [
    {
     "data": {
      "text/plain": [
       "sepal_length    0\n",
       "sepal_width     0\n",
       "petal_length    0\n",
       "petal_width     0\n",
       "species         0\n",
       "dtype: int64"
      ]
     },
     "execution_count": 156,
     "metadata": {},
     "output_type": "execute_result"
    }
   ],
   "source": [
    "iris_data.isnull().sum()"
   ]
  },
  {
   "cell_type": "code",
   "execution_count": 157,
   "id": "5a194796-6bca-478e-bfa1-135ceb223341",
   "metadata": {},
   "outputs": [],
   "source": [
    "X = iris_data.iloc[ : , :-1]\n",
    "y = iris_data.iloc[ : , -1]"
   ]
  },
  {
   "cell_type": "code",
   "execution_count": 158,
   "id": "77cb84cc-3800-430d-a31b-5235b17d528b",
   "metadata": {},
   "outputs": [
    {
     "data": {
      "text/html": [
       "<div>\n",
       "<style scoped>\n",
       "    .dataframe tbody tr th:only-of-type {\n",
       "        vertical-align: middle;\n",
       "    }\n",
       "\n",
       "    .dataframe tbody tr th {\n",
       "        vertical-align: top;\n",
       "    }\n",
       "\n",
       "    .dataframe thead th {\n",
       "        text-align: right;\n",
       "    }\n",
       "</style>\n",
       "<table border=\"1\" class=\"dataframe\">\n",
       "  <thead>\n",
       "    <tr style=\"text-align: right;\">\n",
       "      <th></th>\n",
       "      <th>sepal_length</th>\n",
       "      <th>sepal_width</th>\n",
       "      <th>petal_length</th>\n",
       "      <th>petal_width</th>\n",
       "    </tr>\n",
       "  </thead>\n",
       "  <tbody>\n",
       "    <tr>\n",
       "      <th>0</th>\n",
       "      <td>5.1</td>\n",
       "      <td>3.5</td>\n",
       "      <td>1.4</td>\n",
       "      <td>0.2</td>\n",
       "    </tr>\n",
       "    <tr>\n",
       "      <th>1</th>\n",
       "      <td>4.9</td>\n",
       "      <td>3.0</td>\n",
       "      <td>1.4</td>\n",
       "      <td>0.2</td>\n",
       "    </tr>\n",
       "    <tr>\n",
       "      <th>2</th>\n",
       "      <td>4.7</td>\n",
       "      <td>3.2</td>\n",
       "      <td>1.3</td>\n",
       "      <td>0.2</td>\n",
       "    </tr>\n",
       "    <tr>\n",
       "      <th>3</th>\n",
       "      <td>4.6</td>\n",
       "      <td>3.1</td>\n",
       "      <td>1.5</td>\n",
       "      <td>0.2</td>\n",
       "    </tr>\n",
       "    <tr>\n",
       "      <th>4</th>\n",
       "      <td>5.0</td>\n",
       "      <td>3.6</td>\n",
       "      <td>1.4</td>\n",
       "      <td>0.2</td>\n",
       "    </tr>\n",
       "    <tr>\n",
       "      <th>...</th>\n",
       "      <td>...</td>\n",
       "      <td>...</td>\n",
       "      <td>...</td>\n",
       "      <td>...</td>\n",
       "    </tr>\n",
       "    <tr>\n",
       "      <th>145</th>\n",
       "      <td>6.7</td>\n",
       "      <td>3.0</td>\n",
       "      <td>5.2</td>\n",
       "      <td>2.3</td>\n",
       "    </tr>\n",
       "    <tr>\n",
       "      <th>146</th>\n",
       "      <td>6.3</td>\n",
       "      <td>2.5</td>\n",
       "      <td>5.0</td>\n",
       "      <td>1.9</td>\n",
       "    </tr>\n",
       "    <tr>\n",
       "      <th>147</th>\n",
       "      <td>6.5</td>\n",
       "      <td>3.0</td>\n",
       "      <td>5.2</td>\n",
       "      <td>2.0</td>\n",
       "    </tr>\n",
       "    <tr>\n",
       "      <th>148</th>\n",
       "      <td>6.2</td>\n",
       "      <td>3.4</td>\n",
       "      <td>5.4</td>\n",
       "      <td>2.3</td>\n",
       "    </tr>\n",
       "    <tr>\n",
       "      <th>149</th>\n",
       "      <td>5.9</td>\n",
       "      <td>3.0</td>\n",
       "      <td>5.1</td>\n",
       "      <td>1.8</td>\n",
       "    </tr>\n",
       "  </tbody>\n",
       "</table>\n",
       "<p>150 rows × 4 columns</p>\n",
       "</div>"
      ],
      "text/plain": [
       "     sepal_length  sepal_width  petal_length  petal_width\n",
       "0             5.1          3.5           1.4          0.2\n",
       "1             4.9          3.0           1.4          0.2\n",
       "2             4.7          3.2           1.3          0.2\n",
       "3             4.6          3.1           1.5          0.2\n",
       "4             5.0          3.6           1.4          0.2\n",
       "..            ...          ...           ...          ...\n",
       "145           6.7          3.0           5.2          2.3\n",
       "146           6.3          2.5           5.0          1.9\n",
       "147           6.5          3.0           5.2          2.0\n",
       "148           6.2          3.4           5.4          2.3\n",
       "149           5.9          3.0           5.1          1.8\n",
       "\n",
       "[150 rows x 4 columns]"
      ]
     },
     "execution_count": 158,
     "metadata": {},
     "output_type": "execute_result"
    }
   ],
   "source": [
    "X"
   ]
  },
  {
   "cell_type": "code",
   "execution_count": 159,
   "id": "e337708f-c0c0-4032-813c-213de987d0c2",
   "metadata": {},
   "outputs": [
    {
     "data": {
      "text/plain": [
       "0      0\n",
       "1      0\n",
       "2      0\n",
       "3      0\n",
       "4      0\n",
       "      ..\n",
       "145    2\n",
       "146    2\n",
       "147    2\n",
       "148    2\n",
       "149    2\n",
       "Name: species, Length: 150, dtype: int64"
      ]
     },
     "execution_count": 159,
     "metadata": {},
     "output_type": "execute_result"
    }
   ],
   "source": [
    "y"
   ]
  },
  {
   "cell_type": "code",
   "execution_count": 160,
   "id": "3308e0ef-5baa-4518-98a4-bb7f73eebb68",
   "metadata": {},
   "outputs": [],
   "source": [
    "from sklearn.model_selection import train_test_split"
   ]
  },
  {
   "cell_type": "code",
   "execution_count": 161,
   "id": "ba8a5a76-195b-4be1-9600-52b26bcf68fb",
   "metadata": {},
   "outputs": [
    {
     "data": {
      "text/plain": [
       "[     sepal_length  sepal_width  petal_length  petal_width\n",
       " 39            5.1          3.4           1.5          0.2\n",
       " 119           6.0          2.2           5.0          1.5\n",
       " 147           6.5          3.0           5.2          2.0\n",
       " 55            5.7          2.8           4.5          1.3\n",
       " 49            5.0          3.3           1.4          0.2\n",
       " ..            ...          ...           ...          ...\n",
       " 4             5.0          3.6           1.4          0.2\n",
       " 133           6.3          2.8           5.1          1.5\n",
       " 69            5.6          2.5           3.9          1.1\n",
       " 31            5.4          3.4           1.5          0.4\n",
       " 40            5.0          3.5           1.3          0.3\n",
       " \n",
       " [120 rows x 4 columns],\n",
       "      sepal_length  sepal_width  petal_length  petal_width\n",
       " 72            6.3          2.5           4.9          1.5\n",
       " 47            4.6          3.2           1.4          0.2\n",
       " 102           7.1          3.0           5.9          2.1\n",
       " 35            5.0          3.2           1.2          0.2\n",
       " 103           6.3          2.9           5.6          1.8\n",
       " 101           5.8          2.7           5.1          1.9\n",
       " 7             5.0          3.4           1.5          0.2\n",
       " 87            6.3          2.3           4.4          1.3\n",
       " 123           6.3          2.7           4.9          1.8\n",
       " 24            4.8          3.4           1.9          0.2\n",
       " 67            5.8          2.7           4.1          1.0\n",
       " 14            5.8          4.0           1.2          0.2\n",
       " 78            6.0          2.9           4.5          1.5\n",
       " 92            5.8          2.6           4.0          1.2\n",
       " 116           6.5          3.0           5.5          1.8\n",
       " 121           5.6          2.8           4.9          2.0\n",
       " 137           6.4          3.1           5.5          1.8\n",
       " 143           6.8          3.2           5.9          2.3\n",
       " 0             5.1          3.5           1.4          0.2\n",
       " 62            6.0          2.2           4.0          1.0\n",
       " 109           7.2          3.6           6.1          2.5\n",
       " 28            5.2          3.4           1.4          0.2\n",
       " 77            6.7          3.0           5.0          1.7\n",
       " 42            4.4          3.2           1.3          0.2\n",
       " 25            5.0          3.0           1.6          0.2\n",
       " 45            4.8          3.0           1.4          0.3\n",
       " 56            6.3          3.3           4.7          1.6\n",
       " 33            5.5          4.2           1.4          0.2\n",
       " 126           6.2          2.8           4.8          1.8\n",
       " 32            5.2          4.1           1.5          0.1,\n",
       " 39     0\n",
       " 119    2\n",
       " 147    2\n",
       " 55     1\n",
       " 49     0\n",
       "       ..\n",
       " 4      0\n",
       " 133    2\n",
       " 69     1\n",
       " 31     0\n",
       " 40     0\n",
       " Name: species, Length: 120, dtype: int64,\n",
       " 72     1\n",
       " 47     0\n",
       " 102    2\n",
       " 35     0\n",
       " 103    2\n",
       " 101    2\n",
       " 7      0\n",
       " 87     1\n",
       " 123    2\n",
       " 24     0\n",
       " 67     1\n",
       " 14     0\n",
       " 78     1\n",
       " 92     1\n",
       " 116    2\n",
       " 121    2\n",
       " 137    2\n",
       " 143    2\n",
       " 0      0\n",
       " 62     1\n",
       " 109    2\n",
       " 28     0\n",
       " 77     1\n",
       " 42     0\n",
       " 25     0\n",
       " 45     0\n",
       " 56     1\n",
       " 33     0\n",
       " 126    2\n",
       " 32     0\n",
       " Name: species, dtype: int64]"
      ]
     },
     "execution_count": 161,
     "metadata": {},
     "output_type": "execute_result"
    }
   ],
   "source": [
    "train_test_split(X, y, test_size=0.2)"
   ]
  },
  {
   "cell_type": "code",
   "execution_count": 162,
   "id": "82c39f90-fbff-4163-a1cf-988e8576a574",
   "metadata": {},
   "outputs": [],
   "source": [
    "X_train, X_test, y_train, y_test = train_test_split(X, y, test_size=0.2, random_state=42)"
   ]
  },
  {
   "cell_type": "code",
   "execution_count": 164,
   "id": "14882f54-914a-4a6a-9bb5-4d003d10c2c6",
   "metadata": {},
   "outputs": [
    {
     "name": "stdout",
     "output_type": "stream",
     "text": [
      "X Training Set: (120, 4)\n",
      "y Training Setz: (120,)\n",
      "X Test Set: (30, 4)\n",
      "y Test Set: (30,)\n"
     ]
    }
   ],
   "source": [
    "print(\"X Training Set:\", X_train.shape)\n",
    "print(\"y Training Setz:\", y_train.shape)\n",
    "print(\"X Test Set:\", X_test.shape)\n",
    "print(\"y Test Set:\", y_test.shape)"
   ]
  },
  {
   "cell_type": "code",
   "execution_count": 173,
   "id": "28a0ed30-bd19-4b7c-b009-b8594dc87430",
   "metadata": {},
   "outputs": [],
   "source": [
    "from sklearn.linear_model import LogisticRegression\n",
    "from sklearn.metrics import confusion_matrix, ConfusionMatrixDisplay, precision_score, recall_score, f1_score, accuracy_score"
   ]
  },
  {
   "cell_type": "code",
   "execution_count": 167,
   "id": "9689d684-349b-4a84-885d-0993922c1816",
   "metadata": {},
   "outputs": [],
   "source": [
    "# Creation model\n",
    "model_logistique = LogisticRegression() "
   ]
  },
  {
   "cell_type": "code",
   "execution_count": 168,
   "id": "153510cf-11ee-47a9-b75d-f9e0ea800fea",
   "metadata": {},
   "outputs": [
    {
     "data": {
      "text/html": [
       "<style>#sk-container-id-1 {\n",
       "  /* Definition of color scheme common for light and dark mode */\n",
       "  --sklearn-color-text: black;\n",
       "  --sklearn-color-line: gray;\n",
       "  /* Definition of color scheme for unfitted estimators */\n",
       "  --sklearn-color-unfitted-level-0: #fff5e6;\n",
       "  --sklearn-color-unfitted-level-1: #f6e4d2;\n",
       "  --sklearn-color-unfitted-level-2: #ffe0b3;\n",
       "  --sklearn-color-unfitted-level-3: chocolate;\n",
       "  /* Definition of color scheme for fitted estimators */\n",
       "  --sklearn-color-fitted-level-0: #f0f8ff;\n",
       "  --sklearn-color-fitted-level-1: #d4ebff;\n",
       "  --sklearn-color-fitted-level-2: #b3dbfd;\n",
       "  --sklearn-color-fitted-level-3: cornflowerblue;\n",
       "\n",
       "  /* Specific color for light theme */\n",
       "  --sklearn-color-text-on-default-background: var(--sg-text-color, var(--theme-code-foreground, var(--jp-content-font-color1, black)));\n",
       "  --sklearn-color-background: var(--sg-background-color, var(--theme-background, var(--jp-layout-color0, white)));\n",
       "  --sklearn-color-border-box: var(--sg-text-color, var(--theme-code-foreground, var(--jp-content-font-color1, black)));\n",
       "  --sklearn-color-icon: #696969;\n",
       "\n",
       "  @media (prefers-color-scheme: dark) {\n",
       "    /* Redefinition of color scheme for dark theme */\n",
       "    --sklearn-color-text-on-default-background: var(--sg-text-color, var(--theme-code-foreground, var(--jp-content-font-color1, white)));\n",
       "    --sklearn-color-background: var(--sg-background-color, var(--theme-background, var(--jp-layout-color0, #111)));\n",
       "    --sklearn-color-border-box: var(--sg-text-color, var(--theme-code-foreground, var(--jp-content-font-color1, white)));\n",
       "    --sklearn-color-icon: #878787;\n",
       "  }\n",
       "}\n",
       "\n",
       "#sk-container-id-1 {\n",
       "  color: var(--sklearn-color-text);\n",
       "}\n",
       "\n",
       "#sk-container-id-1 pre {\n",
       "  padding: 0;\n",
       "}\n",
       "\n",
       "#sk-container-id-1 input.sk-hidden--visually {\n",
       "  border: 0;\n",
       "  clip: rect(1px 1px 1px 1px);\n",
       "  clip: rect(1px, 1px, 1px, 1px);\n",
       "  height: 1px;\n",
       "  margin: -1px;\n",
       "  overflow: hidden;\n",
       "  padding: 0;\n",
       "  position: absolute;\n",
       "  width: 1px;\n",
       "}\n",
       "\n",
       "#sk-container-id-1 div.sk-dashed-wrapped {\n",
       "  border: 1px dashed var(--sklearn-color-line);\n",
       "  margin: 0 0.4em 0.5em 0.4em;\n",
       "  box-sizing: border-box;\n",
       "  padding-bottom: 0.4em;\n",
       "  background-color: var(--sklearn-color-background);\n",
       "}\n",
       "\n",
       "#sk-container-id-1 div.sk-container {\n",
       "  /* jupyter's `normalize.less` sets `[hidden] { display: none; }`\n",
       "     but bootstrap.min.css set `[hidden] { display: none !important; }`\n",
       "     so we also need the `!important` here to be able to override the\n",
       "     default hidden behavior on the sphinx rendered scikit-learn.org.\n",
       "     See: https://github.com/scikit-learn/scikit-learn/issues/21755 */\n",
       "  display: inline-block !important;\n",
       "  position: relative;\n",
       "}\n",
       "\n",
       "#sk-container-id-1 div.sk-text-repr-fallback {\n",
       "  display: none;\n",
       "}\n",
       "\n",
       "div.sk-parallel-item,\n",
       "div.sk-serial,\n",
       "div.sk-item {\n",
       "  /* draw centered vertical line to link estimators */\n",
       "  background-image: linear-gradient(var(--sklearn-color-text-on-default-background), var(--sklearn-color-text-on-default-background));\n",
       "  background-size: 2px 100%;\n",
       "  background-repeat: no-repeat;\n",
       "  background-position: center center;\n",
       "}\n",
       "\n",
       "/* Parallel-specific style estimator block */\n",
       "\n",
       "#sk-container-id-1 div.sk-parallel-item::after {\n",
       "  content: \"\";\n",
       "  width: 100%;\n",
       "  border-bottom: 2px solid var(--sklearn-color-text-on-default-background);\n",
       "  flex-grow: 1;\n",
       "}\n",
       "\n",
       "#sk-container-id-1 div.sk-parallel {\n",
       "  display: flex;\n",
       "  align-items: stretch;\n",
       "  justify-content: center;\n",
       "  background-color: var(--sklearn-color-background);\n",
       "  position: relative;\n",
       "}\n",
       "\n",
       "#sk-container-id-1 div.sk-parallel-item {\n",
       "  display: flex;\n",
       "  flex-direction: column;\n",
       "}\n",
       "\n",
       "#sk-container-id-1 div.sk-parallel-item:first-child::after {\n",
       "  align-self: flex-end;\n",
       "  width: 50%;\n",
       "}\n",
       "\n",
       "#sk-container-id-1 div.sk-parallel-item:last-child::after {\n",
       "  align-self: flex-start;\n",
       "  width: 50%;\n",
       "}\n",
       "\n",
       "#sk-container-id-1 div.sk-parallel-item:only-child::after {\n",
       "  width: 0;\n",
       "}\n",
       "\n",
       "/* Serial-specific style estimator block */\n",
       "\n",
       "#sk-container-id-1 div.sk-serial {\n",
       "  display: flex;\n",
       "  flex-direction: column;\n",
       "  align-items: center;\n",
       "  background-color: var(--sklearn-color-background);\n",
       "  padding-right: 1em;\n",
       "  padding-left: 1em;\n",
       "}\n",
       "\n",
       "\n",
       "/* Toggleable style: style used for estimator/Pipeline/ColumnTransformer box that is\n",
       "clickable and can be expanded/collapsed.\n",
       "- Pipeline and ColumnTransformer use this feature and define the default style\n",
       "- Estimators will overwrite some part of the style using the `sk-estimator` class\n",
       "*/\n",
       "\n",
       "/* Pipeline and ColumnTransformer style (default) */\n",
       "\n",
       "#sk-container-id-1 div.sk-toggleable {\n",
       "  /* Default theme specific background. It is overwritten whether we have a\n",
       "  specific estimator or a Pipeline/ColumnTransformer */\n",
       "  background-color: var(--sklearn-color-background);\n",
       "}\n",
       "\n",
       "/* Toggleable label */\n",
       "#sk-container-id-1 label.sk-toggleable__label {\n",
       "  cursor: pointer;\n",
       "  display: block;\n",
       "  width: 100%;\n",
       "  margin-bottom: 0;\n",
       "  padding: 0.5em;\n",
       "  box-sizing: border-box;\n",
       "  text-align: center;\n",
       "}\n",
       "\n",
       "#sk-container-id-1 label.sk-toggleable__label-arrow:before {\n",
       "  /* Arrow on the left of the label */\n",
       "  content: \"▸\";\n",
       "  float: left;\n",
       "  margin-right: 0.25em;\n",
       "  color: var(--sklearn-color-icon);\n",
       "}\n",
       "\n",
       "#sk-container-id-1 label.sk-toggleable__label-arrow:hover:before {\n",
       "  color: var(--sklearn-color-text);\n",
       "}\n",
       "\n",
       "/* Toggleable content - dropdown */\n",
       "\n",
       "#sk-container-id-1 div.sk-toggleable__content {\n",
       "  max-height: 0;\n",
       "  max-width: 0;\n",
       "  overflow: hidden;\n",
       "  text-align: left;\n",
       "  /* unfitted */\n",
       "  background-color: var(--sklearn-color-unfitted-level-0);\n",
       "}\n",
       "\n",
       "#sk-container-id-1 div.sk-toggleable__content.fitted {\n",
       "  /* fitted */\n",
       "  background-color: var(--sklearn-color-fitted-level-0);\n",
       "}\n",
       "\n",
       "#sk-container-id-1 div.sk-toggleable__content pre {\n",
       "  margin: 0.2em;\n",
       "  border-radius: 0.25em;\n",
       "  color: var(--sklearn-color-text);\n",
       "  /* unfitted */\n",
       "  background-color: var(--sklearn-color-unfitted-level-0);\n",
       "}\n",
       "\n",
       "#sk-container-id-1 div.sk-toggleable__content.fitted pre {\n",
       "  /* unfitted */\n",
       "  background-color: var(--sklearn-color-fitted-level-0);\n",
       "}\n",
       "\n",
       "#sk-container-id-1 input.sk-toggleable__control:checked~div.sk-toggleable__content {\n",
       "  /* Expand drop-down */\n",
       "  max-height: 200px;\n",
       "  max-width: 100%;\n",
       "  overflow: auto;\n",
       "}\n",
       "\n",
       "#sk-container-id-1 input.sk-toggleable__control:checked~label.sk-toggleable__label-arrow:before {\n",
       "  content: \"▾\";\n",
       "}\n",
       "\n",
       "/* Pipeline/ColumnTransformer-specific style */\n",
       "\n",
       "#sk-container-id-1 div.sk-label input.sk-toggleable__control:checked~label.sk-toggleable__label {\n",
       "  color: var(--sklearn-color-text);\n",
       "  background-color: var(--sklearn-color-unfitted-level-2);\n",
       "}\n",
       "\n",
       "#sk-container-id-1 div.sk-label.fitted input.sk-toggleable__control:checked~label.sk-toggleable__label {\n",
       "  background-color: var(--sklearn-color-fitted-level-2);\n",
       "}\n",
       "\n",
       "/* Estimator-specific style */\n",
       "\n",
       "/* Colorize estimator box */\n",
       "#sk-container-id-1 div.sk-estimator input.sk-toggleable__control:checked~label.sk-toggleable__label {\n",
       "  /* unfitted */\n",
       "  background-color: var(--sklearn-color-unfitted-level-2);\n",
       "}\n",
       "\n",
       "#sk-container-id-1 div.sk-estimator.fitted input.sk-toggleable__control:checked~label.sk-toggleable__label {\n",
       "  /* fitted */\n",
       "  background-color: var(--sklearn-color-fitted-level-2);\n",
       "}\n",
       "\n",
       "#sk-container-id-1 div.sk-label label.sk-toggleable__label,\n",
       "#sk-container-id-1 div.sk-label label {\n",
       "  /* The background is the default theme color */\n",
       "  color: var(--sklearn-color-text-on-default-background);\n",
       "}\n",
       "\n",
       "/* On hover, darken the color of the background */\n",
       "#sk-container-id-1 div.sk-label:hover label.sk-toggleable__label {\n",
       "  color: var(--sklearn-color-text);\n",
       "  background-color: var(--sklearn-color-unfitted-level-2);\n",
       "}\n",
       "\n",
       "/* Label box, darken color on hover, fitted */\n",
       "#sk-container-id-1 div.sk-label.fitted:hover label.sk-toggleable__label.fitted {\n",
       "  color: var(--sklearn-color-text);\n",
       "  background-color: var(--sklearn-color-fitted-level-2);\n",
       "}\n",
       "\n",
       "/* Estimator label */\n",
       "\n",
       "#sk-container-id-1 div.sk-label label {\n",
       "  font-family: monospace;\n",
       "  font-weight: bold;\n",
       "  display: inline-block;\n",
       "  line-height: 1.2em;\n",
       "}\n",
       "\n",
       "#sk-container-id-1 div.sk-label-container {\n",
       "  text-align: center;\n",
       "}\n",
       "\n",
       "/* Estimator-specific */\n",
       "#sk-container-id-1 div.sk-estimator {\n",
       "  font-family: monospace;\n",
       "  border: 1px dotted var(--sklearn-color-border-box);\n",
       "  border-radius: 0.25em;\n",
       "  box-sizing: border-box;\n",
       "  margin-bottom: 0.5em;\n",
       "  /* unfitted */\n",
       "  background-color: var(--sklearn-color-unfitted-level-0);\n",
       "}\n",
       "\n",
       "#sk-container-id-1 div.sk-estimator.fitted {\n",
       "  /* fitted */\n",
       "  background-color: var(--sklearn-color-fitted-level-0);\n",
       "}\n",
       "\n",
       "/* on hover */\n",
       "#sk-container-id-1 div.sk-estimator:hover {\n",
       "  /* unfitted */\n",
       "  background-color: var(--sklearn-color-unfitted-level-2);\n",
       "}\n",
       "\n",
       "#sk-container-id-1 div.sk-estimator.fitted:hover {\n",
       "  /* fitted */\n",
       "  background-color: var(--sklearn-color-fitted-level-2);\n",
       "}\n",
       "\n",
       "/* Specification for estimator info (e.g. \"i\" and \"?\") */\n",
       "\n",
       "/* Common style for \"i\" and \"?\" */\n",
       "\n",
       ".sk-estimator-doc-link,\n",
       "a:link.sk-estimator-doc-link,\n",
       "a:visited.sk-estimator-doc-link {\n",
       "  float: right;\n",
       "  font-size: smaller;\n",
       "  line-height: 1em;\n",
       "  font-family: monospace;\n",
       "  background-color: var(--sklearn-color-background);\n",
       "  border-radius: 1em;\n",
       "  height: 1em;\n",
       "  width: 1em;\n",
       "  text-decoration: none !important;\n",
       "  margin-left: 1ex;\n",
       "  /* unfitted */\n",
       "  border: var(--sklearn-color-unfitted-level-1) 1pt solid;\n",
       "  color: var(--sklearn-color-unfitted-level-1);\n",
       "}\n",
       "\n",
       ".sk-estimator-doc-link.fitted,\n",
       "a:link.sk-estimator-doc-link.fitted,\n",
       "a:visited.sk-estimator-doc-link.fitted {\n",
       "  /* fitted */\n",
       "  border: var(--sklearn-color-fitted-level-1) 1pt solid;\n",
       "  color: var(--sklearn-color-fitted-level-1);\n",
       "}\n",
       "\n",
       "/* On hover */\n",
       "div.sk-estimator:hover .sk-estimator-doc-link:hover,\n",
       ".sk-estimator-doc-link:hover,\n",
       "div.sk-label-container:hover .sk-estimator-doc-link:hover,\n",
       ".sk-estimator-doc-link:hover {\n",
       "  /* unfitted */\n",
       "  background-color: var(--sklearn-color-unfitted-level-3);\n",
       "  color: var(--sklearn-color-background);\n",
       "  text-decoration: none;\n",
       "}\n",
       "\n",
       "div.sk-estimator.fitted:hover .sk-estimator-doc-link.fitted:hover,\n",
       ".sk-estimator-doc-link.fitted:hover,\n",
       "div.sk-label-container:hover .sk-estimator-doc-link.fitted:hover,\n",
       ".sk-estimator-doc-link.fitted:hover {\n",
       "  /* fitted */\n",
       "  background-color: var(--sklearn-color-fitted-level-3);\n",
       "  color: var(--sklearn-color-background);\n",
       "  text-decoration: none;\n",
       "}\n",
       "\n",
       "/* Span, style for the box shown on hovering the info icon */\n",
       ".sk-estimator-doc-link span {\n",
       "  display: none;\n",
       "  z-index: 9999;\n",
       "  position: relative;\n",
       "  font-weight: normal;\n",
       "  right: .2ex;\n",
       "  padding: .5ex;\n",
       "  margin: .5ex;\n",
       "  width: min-content;\n",
       "  min-width: 20ex;\n",
       "  max-width: 50ex;\n",
       "  color: var(--sklearn-color-text);\n",
       "  box-shadow: 2pt 2pt 4pt #999;\n",
       "  /* unfitted */\n",
       "  background: var(--sklearn-color-unfitted-level-0);\n",
       "  border: .5pt solid var(--sklearn-color-unfitted-level-3);\n",
       "}\n",
       "\n",
       ".sk-estimator-doc-link.fitted span {\n",
       "  /* fitted */\n",
       "  background: var(--sklearn-color-fitted-level-0);\n",
       "  border: var(--sklearn-color-fitted-level-3);\n",
       "}\n",
       "\n",
       ".sk-estimator-doc-link:hover span {\n",
       "  display: block;\n",
       "}\n",
       "\n",
       "/* \"?\"-specific style due to the `<a>` HTML tag */\n",
       "\n",
       "#sk-container-id-1 a.estimator_doc_link {\n",
       "  float: right;\n",
       "  font-size: 1rem;\n",
       "  line-height: 1em;\n",
       "  font-family: monospace;\n",
       "  background-color: var(--sklearn-color-background);\n",
       "  border-radius: 1rem;\n",
       "  height: 1rem;\n",
       "  width: 1rem;\n",
       "  text-decoration: none;\n",
       "  /* unfitted */\n",
       "  color: var(--sklearn-color-unfitted-level-1);\n",
       "  border: var(--sklearn-color-unfitted-level-1) 1pt solid;\n",
       "}\n",
       "\n",
       "#sk-container-id-1 a.estimator_doc_link.fitted {\n",
       "  /* fitted */\n",
       "  border: var(--sklearn-color-fitted-level-1) 1pt solid;\n",
       "  color: var(--sklearn-color-fitted-level-1);\n",
       "}\n",
       "\n",
       "/* On hover */\n",
       "#sk-container-id-1 a.estimator_doc_link:hover {\n",
       "  /* unfitted */\n",
       "  background-color: var(--sklearn-color-unfitted-level-3);\n",
       "  color: var(--sklearn-color-background);\n",
       "  text-decoration: none;\n",
       "}\n",
       "\n",
       "#sk-container-id-1 a.estimator_doc_link.fitted:hover {\n",
       "  /* fitted */\n",
       "  background-color: var(--sklearn-color-fitted-level-3);\n",
       "}\n",
       "</style><div id=\"sk-container-id-1\" class=\"sk-top-container\"><div class=\"sk-text-repr-fallback\"><pre>LogisticRegression()</pre><b>In a Jupyter environment, please rerun this cell to show the HTML representation or trust the notebook. <br />On GitHub, the HTML representation is unable to render, please try loading this page with nbviewer.org.</b></div><div class=\"sk-container\" hidden><div class=\"sk-item\"><div class=\"sk-estimator fitted sk-toggleable\"><input class=\"sk-toggleable__control sk-hidden--visually\" id=\"sk-estimator-id-1\" type=\"checkbox\" checked><label for=\"sk-estimator-id-1\" class=\"sk-toggleable__label fitted sk-toggleable__label-arrow fitted\">&nbsp;&nbsp;LogisticRegression<a class=\"sk-estimator-doc-link fitted\" rel=\"noreferrer\" target=\"_blank\" href=\"https://scikit-learn.org/1.5/modules/generated/sklearn.linear_model.LogisticRegression.html\">?<span>Documentation for LogisticRegression</span></a><span class=\"sk-estimator-doc-link fitted\">i<span>Fitted</span></span></label><div class=\"sk-toggleable__content fitted\"><pre>LogisticRegression()</pre></div> </div></div></div></div>"
      ],
      "text/plain": [
       "LogisticRegression()"
      ]
     },
     "execution_count": 168,
     "metadata": {},
     "output_type": "execute_result"
    }
   ],
   "source": [
    "# Entrainement du Model\n",
    "model_logistique.fit(X_train, y_train)"
   ]
  },
  {
   "cell_type": "code",
   "execution_count": 169,
   "id": "e749f8e3-c84c-4d39-b148-05faa43d25e8",
   "metadata": {},
   "outputs": [],
   "source": [
    "# Prediction\n",
    "y_prediction = model_logistique.predict(X_test)"
   ]
  },
  {
   "cell_type": "code",
   "execution_count": 170,
   "id": "ba0ddedd-8400-4454-b987-b366c485a0a6",
   "metadata": {},
   "outputs": [
    {
     "data": {
      "text/plain": [
       "array([1, 0, 2, 1, 1, 0, 1, 2, 1, 1, 2, 0, 0, 0, 0, 1, 2, 1, 1, 2, 0, 2,\n",
       "       0, 2, 2, 2, 2, 2, 0, 0], dtype=int64)"
      ]
     },
     "execution_count": 170,
     "metadata": {},
     "output_type": "execute_result"
    }
   ],
   "source": [
    "y_prediction"
   ]
  },
  {
   "cell_type": "code",
   "execution_count": 171,
   "id": "82474709-5ef9-4671-82cb-ff998fdac72d",
   "metadata": {},
   "outputs": [
    {
     "data": {
      "text/plain": [
       "array([[10,  0,  0],\n",
       "       [ 0,  9,  0],\n",
       "       [ 0,  0, 11]], dtype=int64)"
      ]
     },
     "execution_count": 171,
     "metadata": {},
     "output_type": "execute_result"
    }
   ],
   "source": [
    "confusion_matrix(y_test, y_prediction)"
   ]
  },
  {
   "cell_type": "code",
   "execution_count": 172,
   "id": "03e92ec0-b2e6-4a9b-b91b-62da548a5d38",
   "metadata": {},
   "outputs": [
    {
     "data": {
      "text/plain": [
       "<sklearn.metrics._plot.confusion_matrix.ConfusionMatrixDisplay at 0x15335b3b9a0>"
      ]
     },
     "execution_count": 172,
     "metadata": {},
     "output_type": "execute_result"
    },
    {
     "data": {
      "image/png": "[encoded data removed]",
      "text/plain": [
       "<Figure size 640x480 with 2 Axes>"
      ]
     },
     "metadata": {},
     "output_type": "display_data"
    }
   ],
   "source": [
    "ConfusionMatrixDisplay.from_estimator(model_logistique, X_test, y_test)"
   ]
  },
  {
   "cell_type": "code",
   "execution_count": 174,
   "id": "f426dc31-90ed-4600-b88e-da54fd560b02",
   "metadata": {},
   "outputs": [
    {
     "data": {
      "text/plain": [
       "1.0"
      ]
     },
     "execution_count": 174,
     "metadata": {},
     "output_type": "execute_result"
    }
   ],
   "source": [
    "accuracy_score(y_test, y_prediction)"
   ]
  },
  {
   "cell_type": "code",
   "execution_count": null,
   "id": "2d93af06-fd21-4d14-b99f-865fd5d29cf5",
   "metadata": {},
   "outputs": [],
   "source": []
  }
 ],
 "metadata": {
  "kernelspec": {
   "display_name": "Python 3 (ipykernel)",
   "language": "python",
   "name": "python3"
  },
  "language_info": {
   "codemirror_mode": {
    "name": "ipython",
    "version": 3
   },
   "file_extension": ".py",
   "mimetype": "text/x-python",
   "name": "python",
   "nbconvert_exporter": "python",
   "pygments_lexer": "ipython3",
   "version": "3.10.13"
  }
 },
 "nbformat": 4,
 "nbformat_minor": 5
}
