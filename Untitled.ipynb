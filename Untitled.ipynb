{
 "cells": [
  {
   "cell_type": "markdown",
   "id": "bed3fa93-4ef8-4ef9-abae-597b76c8b75f",
   "metadata": {},
   "source": [
    "# 1. Importation des  libraries"
   ]
  },
  {
   "cell_type": "code",
   "execution_count": 50,
   "id": "8b76c939-e750-42a5-b1d8-657b810fa0a7",
   "metadata": {},
   "outputs": [],
   "source": [
    "# Importation de packages\n",
    "import numpy as np\n",
    "import pandas as pd"
   ]
  },
  {
   "cell_type": "markdown",
   "id": "c98c0c5a-47ea-43c8-a578-1696799ee8bb",
   "metadata": {},
   "source": [
    "# 2. Charger les donnees"
   ]
  },
  {
   "cell_type": "code",
   "execution_count": 51,
   "id": "955896cf-17dc-4e41-8bb8-277ec0785b55",
   "metadata": {},
   "outputs": [],
   "source": [
    "data = pd.read_csv(\"unhcr-situations.csv\")"
   ]
  },
  {
   "cell_type": "code",
   "execution_count": 52,
   "id": "91ff325a-2503-4a74-b0d9-0093a9c52876",
   "metadata": {},
   "outputs": [
    {
     "data": {
      "text/html": [
       "<div>\n",
       "<style scoped>\n",
       "    .dataframe tbody tr th:only-of-type {\n",
       "        vertical-align: middle;\n",
       "    }\n",
       "\n",
       "    .dataframe tbody tr th {\n",
       "        vertical-align: top;\n",
       "    }\n",
       "\n",
       "    .dataframe thead th {\n",
       "        text-align: right;\n",
       "    }\n",
       "</style>\n",
       "<table border=\"1\" class=\"dataframe\">\n",
       "  <thead>\n",
       "    <tr style=\"text-align: right;\">\n",
       "      <th></th>\n",
       "      <th>Country</th>\n",
       "      <th>ISO3</th>\n",
       "      <th>Country of Origin</th>\n",
       "      <th>ISO3 of Origin</th>\n",
       "      <th>Population type</th>\n",
       "      <th>Source</th>\n",
       "      <th>Date</th>\n",
       "      <th>Individuals</th>\n",
       "    </tr>\n",
       "  </thead>\n",
       "  <tbody>\n",
       "    <tr>\n",
       "      <th>0</th>\n",
       "      <td>Angola</td>\n",
       "      <td>AGO</td>\n",
       "      <td>Chad</td>\n",
       "      <td>TCD</td>\n",
       "      <td>Asylum-Seekers</td>\n",
       "      <td>UNHCR, Government</td>\n",
       "      <td>2024-06-30</td>\n",
       "      <td>968</td>\n",
       "    </tr>\n",
       "    <tr>\n",
       "      <th>1</th>\n",
       "      <td>Angola</td>\n",
       "      <td>AGO</td>\n",
       "      <td>Chad</td>\n",
       "      <td>TCD</td>\n",
       "      <td>Asylum-Seekers</td>\n",
       "      <td>UNHCR, Government</td>\n",
       "      <td>2024-07-31</td>\n",
       "      <td>968</td>\n",
       "    </tr>\n",
       "    <tr>\n",
       "      <th>2</th>\n",
       "      <td>Angola</td>\n",
       "      <td>AGO</td>\n",
       "      <td>Chad</td>\n",
       "      <td>TCD</td>\n",
       "      <td>Asylum-Seekers</td>\n",
       "      <td>UNHCR, Government</td>\n",
       "      <td>2024-08-31</td>\n",
       "      <td>968</td>\n",
       "    </tr>\n",
       "    <tr>\n",
       "      <th>3</th>\n",
       "      <td>Angola</td>\n",
       "      <td>AGO</td>\n",
       "      <td>Chad</td>\n",
       "      <td>TCD</td>\n",
       "      <td>Asylum-Seekers</td>\n",
       "      <td>UNHCR, Government</td>\n",
       "      <td>2024-09-30</td>\n",
       "      <td>968</td>\n",
       "    </tr>\n",
       "    <tr>\n",
       "      <th>4</th>\n",
       "      <td>Angola</td>\n",
       "      <td>AGO</td>\n",
       "      <td>Chad</td>\n",
       "      <td>TCD</td>\n",
       "      <td>Asylum-Seekers</td>\n",
       "      <td>UNHCR, Government</td>\n",
       "      <td>2024-11-30</td>\n",
       "      <td>968</td>\n",
       "    </tr>\n",
       "  </tbody>\n",
       "</table>\n",
       "</div>"
      ],
      "text/plain": [
       "  Country ISO3 Country of Origin ISO3 of Origin Population type  \\\n",
       "0  Angola  AGO              Chad            TCD  Asylum-Seekers   \n",
       "1  Angola  AGO              Chad            TCD  Asylum-Seekers   \n",
       "2  Angola  AGO              Chad            TCD  Asylum-Seekers   \n",
       "3  Angola  AGO              Chad            TCD  Asylum-Seekers   \n",
       "4  Angola  AGO              Chad            TCD  Asylum-Seekers   \n",
       "\n",
       "              Source        Date  Individuals  \n",
       "0  UNHCR, Government  2024-06-30          968  \n",
       "1  UNHCR, Government  2024-07-31          968  \n",
       "2  UNHCR, Government  2024-08-31          968  \n",
       "3  UNHCR, Government  2024-09-30          968  \n",
       "4  UNHCR, Government  2024-11-30          968  "
      ]
     },
     "execution_count": 52,
     "metadata": {},
     "output_type": "execute_result"
    }
   ],
   "source": [
    "data.head()"
   ]
  },
  {
   "cell_type": "code",
   "execution_count": 53,
   "id": "812cdf81-7beb-4273-ad0e-a04045c2adad",
   "metadata": {},
   "outputs": [
    {
     "data": {
      "text/plain": [
       "(1191, 8)"
      ]
     },
     "execution_count": 53,
     "metadata": {},
     "output_type": "execute_result"
    }
   ],
   "source": [
    "# Verification de la dimension\n",
    "data.shape"
   ]
  },
  {
   "cell_type": "code",
   "execution_count": 54,
   "id": "ea6df2fd-8fc0-4a32-86ce-f572a21cf7d5",
   "metadata": {},
   "outputs": [
    {
     "data": {
      "text/plain": [
       "array(['Angola', 'Burundi', 'Benin', 'Burkina Faso',\n",
       "       'Central African Republic', \"Cote d'Ivoire\", 'Cameroon',\n",
       "       'Democratic Republic of the Congo', 'Djibouti', 'Ethiopia',\n",
       "       'Ghana', 'Guinea', 'Gambia', 'Guinea-Bissau', 'Kenya', 'Liberia',\n",
       "       'Mali', 'Mozambique', 'Malawi', 'Niger', 'Nigeria', 'Rwanda',\n",
       "       'Sudan', 'Senegal', 'Sierra Leone', 'Somalia', 'South Sudan',\n",
       "       'Chad', 'Togo', 'Tanzania (United Republic of)', 'Uganda',\n",
       "       'Zambia', 'Zimbabwe'], dtype=object)"
      ]
     },
     "execution_count": 54,
     "metadata": {},
     "output_type": "execute_result"
    }
   ],
   "source": [
    "# Verifier les type de donnees unique\n",
    "data['Country'].unique()"
   ]
  },
  {
   "cell_type": "code",
   "execution_count": 55,
   "id": "121dafeb-b2d6-4bc6-ab02-0183d5268c11",
   "metadata": {},
   "outputs": [
    {
     "data": {
      "text/plain": [
       "Country\n",
       "Democratic Republic of the Congo    89\n",
       "Uganda                              87\n",
       "Somalia                             71\n",
       "Angola                              67\n",
       "Guinea                              66\n",
       "South Sudan                         65\n",
       "Kenya                               60\n",
       "Mali                                56\n",
       "Burkina Faso                        55\n",
       "Cameroon                            50\n",
       "Nigeria                             44\n",
       "Chad                                42\n",
       "Ethiopia                            40\n",
       "Ghana                               40\n",
       "Central African Republic            37\n",
       "Djibouti                            27\n",
       "Benin                               26\n",
       "Senegal                             25\n",
       "Togo                                24\n",
       "Niger                               24\n",
       "Mozambique                          24\n",
       "Gambia                              24\n",
       "Rwanda                              22\n",
       "Tanzania (United Republic of)       20\n",
       "Cote d'Ivoire                       18\n",
       "Malawi                              17\n",
       "Zimbabwe                            16\n",
       "Zambia                              15\n",
       "Burundi                             12\n",
       "Sudan                               11\n",
       "Guinea-Bissau                        7\n",
       "Liberia                              7\n",
       "Sierra Leone                         3\n",
       "Name: count, dtype: int64"
      ]
     },
     "execution_count": 55,
     "metadata": {},
     "output_type": "execute_result"
    }
   ],
   "source": [
    "data['Country'].value_counts()"
   ]
  },
  {
   "cell_type": "code",
   "execution_count": 56,
   "id": "b84928d0-19d6-4a4c-bf16-264dcbc41b20",
   "metadata": {},
   "outputs": [
    {
     "data": {
      "text/plain": [
       "array(['AGO', 'BDI', 'BEN', 'BFA', 'CAF', 'CIV', 'CMR', 'COD', 'DJI',\n",
       "       'ETH', 'GHA', 'GIN', 'GMB', 'GNB', 'KEN', 'LBR', 'MLI', 'MOZ',\n",
       "       'MWI', 'NER', 'NGA', 'RWA', 'SDN', 'SEN', 'SLE', 'SOM', 'SSD',\n",
       "       'TCD', 'TGO', 'TZA', 'UGA', 'ZMB', 'ZWE'], dtype=object)"
      ]
     },
     "execution_count": 56,
     "metadata": {},
     "output_type": "execute_result"
    }
   ],
   "source": [
    "data['ISO3'].unique()"
   ]
  },
  {
   "cell_type": "code",
   "execution_count": 57,
   "id": "90a7bfe3-2527-497b-bfd5-dd195538ed30",
   "metadata": {},
   "outputs": [
    {
     "data": {
      "text/plain": [
       "array(['Chad', \"Côte d'Ivoire\", 'Dem. Rep. of the Congo', 'Eritrea',\n",
       "       'Guinea', 'Liberia', 'Mauritania', 'Others', 'Rwanda',\n",
       "       'Sierra Leone', 'Somalia', 'Sudan', 'Uganda', 'Various',\n",
       "       'Burkina Faso', 'Central African Rep.', 'Togo', 'Burundi', 'Congo',\n",
       "       'Mali', 'South Sudan', 'Syrian Arab Rep.', 'Nigeria', 'Angola',\n",
       "       'Cameroon', 'Ethiopia', 'Senegal', 'Yemen', 'Niger', 'Mozambique',\n",
       "       'Turkey', 'Gambia', 'Bangladesh', 'Djibouti', 'Egypt', 'Iraq',\n",
       "       'Jordan', 'Kenya', 'Pakistan', 'State of Palestine',\n",
       "       'United Arab Emirates', 'United Rep. of Tanzania',\n",
       "       'United States of America', 'Ghana'], dtype=object)"
      ]
     },
     "execution_count": 57,
     "metadata": {},
     "output_type": "execute_result"
    }
   ],
   "source": [
    "data['Country of Origin'].unique()"
   ]
  },
  {
   "cell_type": "code",
   "execution_count": 58,
   "id": "766fce57-7985-417b-9bc3-b34a52195f7e",
   "metadata": {},
   "outputs": [
    {
     "data": {
      "text/plain": [
       "array(['TCD', 'CIV', 'COD', 'ERI', 'GIN', 'LBR', 'MRT', nan, 'RWA', 'SLE',\n",
       "       'SOM', 'SDN', 'UGA', 'BFA', 'CAF', 'TGO', 'BDI', 'COG', 'MLI',\n",
       "       'SSD', 'SYR', 'NGA', 'AGO', 'CMR', 'ETH', 'SEN', 'YEM', 'NER',\n",
       "       'MOZ', 'TUR', 'GMB', 'BGD', 'DJI', 'EGY', 'IRQ', 'JOR', 'KEN',\n",
       "       'PAK', 'PSE', 'ARE', 'TZA', 'USA', 'GHA'], dtype=object)"
      ]
     },
     "execution_count": 58,
     "metadata": {},
     "output_type": "execute_result"
    }
   ],
   "source": [
    "data['ISO3 of Origin'].unique()"
   ]
  },
  {
   "cell_type": "code",
   "execution_count": 59,
   "id": "8db9dce3-d726-46ef-82c0-9c6e97e580da",
   "metadata": {},
   "outputs": [
    {
     "data": {
      "text/html": [
       "<div>\n",
       "<style scoped>\n",
       "    .dataframe tbody tr th:only-of-type {\n",
       "        vertical-align: middle;\n",
       "    }\n",
       "\n",
       "    .dataframe tbody tr th {\n",
       "        vertical-align: top;\n",
       "    }\n",
       "\n",
       "    .dataframe thead th {\n",
       "        text-align: right;\n",
       "    }\n",
       "</style>\n",
       "<table border=\"1\" class=\"dataframe\">\n",
       "  <thead>\n",
       "    <tr style=\"text-align: right;\">\n",
       "      <th></th>\n",
       "      <th>Country</th>\n",
       "      <th>ISO3</th>\n",
       "      <th>Country of Origin</th>\n",
       "      <th>ISO3 of Origin</th>\n",
       "      <th>Population type</th>\n",
       "      <th>Source</th>\n",
       "      <th>Date</th>\n",
       "      <th>Individuals</th>\n",
       "    </tr>\n",
       "  </thead>\n",
       "  <tbody>\n",
       "    <tr>\n",
       "      <th>0</th>\n",
       "      <td>Angola</td>\n",
       "      <td>AGO</td>\n",
       "      <td>Chad</td>\n",
       "      <td>TCD</td>\n",
       "      <td>Asylum-Seekers</td>\n",
       "      <td>UNHCR, Government</td>\n",
       "      <td>2024-06-30</td>\n",
       "      <td>968</td>\n",
       "    </tr>\n",
       "    <tr>\n",
       "      <th>1</th>\n",
       "      <td>Angola</td>\n",
       "      <td>AGO</td>\n",
       "      <td>Chad</td>\n",
       "      <td>TCD</td>\n",
       "      <td>Asylum-Seekers</td>\n",
       "      <td>UNHCR, Government</td>\n",
       "      <td>2024-07-31</td>\n",
       "      <td>968</td>\n",
       "    </tr>\n",
       "  </tbody>\n",
       "</table>\n",
       "</div>"
      ],
      "text/plain": [
       "  Country ISO3 Country of Origin ISO3 of Origin Population type  \\\n",
       "0  Angola  AGO              Chad            TCD  Asylum-Seekers   \n",
       "1  Angola  AGO              Chad            TCD  Asylum-Seekers   \n",
       "\n",
       "              Source        Date  Individuals  \n",
       "0  UNHCR, Government  2024-06-30          968  \n",
       "1  UNHCR, Government  2024-07-31          968  "
      ]
     },
     "execution_count": 59,
     "metadata": {},
     "output_type": "execute_result"
    }
   ],
   "source": [
    "data.head(2)"
   ]
  },
  {
   "cell_type": "code",
   "execution_count": 60,
   "id": "1ce711c6-7c7a-4f9f-b506-755a2aaa6afd",
   "metadata": {},
   "outputs": [
    {
     "data": {
      "text/plain": [
       "array(['Asylum-Seekers', 'Refugees'], dtype=object)"
      ]
     },
     "execution_count": 60,
     "metadata": {},
     "output_type": "execute_result"
    }
   ],
   "source": [
    "data['Population type'].unique()"
   ]
  },
  {
   "cell_type": "code",
   "execution_count": 61,
   "id": "4bc65405-ec0b-4c55-8663-6ebaf2ecfdac",
   "metadata": {},
   "outputs": [
    {
     "data": {
      "text/plain": [
       "array(['UNHCR, Government', 'Government, UNHCR', 'UNHCR',\n",
       "       'UNHCR, Government, MINEMA', 'UNHCR, COR',\n",
       "       'Office of the Prime Minister, UNHCR, Government'], dtype=object)"
      ]
     },
     "execution_count": 61,
     "metadata": {},
     "output_type": "execute_result"
    }
   ],
   "source": [
    "data['Source'].unique()"
   ]
  },
  {
   "cell_type": "code",
   "execution_count": 62,
   "id": "98e07d1a-8933-49c6-8f49-ee808b47f526",
   "metadata": {},
   "outputs": [
    {
     "data": {
      "text/html": [
       "<div>\n",
       "<style scoped>\n",
       "    .dataframe tbody tr th:only-of-type {\n",
       "        vertical-align: middle;\n",
       "    }\n",
       "\n",
       "    .dataframe tbody tr th {\n",
       "        vertical-align: top;\n",
       "    }\n",
       "\n",
       "    .dataframe thead th {\n",
       "        text-align: right;\n",
       "    }\n",
       "</style>\n",
       "<table border=\"1\" class=\"dataframe\">\n",
       "  <thead>\n",
       "    <tr style=\"text-align: right;\">\n",
       "      <th></th>\n",
       "      <th>Country</th>\n",
       "      <th>ISO3</th>\n",
       "      <th>Country of Origin</th>\n",
       "      <th>ISO3 of Origin</th>\n",
       "      <th>Population type</th>\n",
       "      <th>Source</th>\n",
       "      <th>Date</th>\n",
       "      <th>Individuals</th>\n",
       "    </tr>\n",
       "  </thead>\n",
       "  <tbody>\n",
       "    <tr>\n",
       "      <th>0</th>\n",
       "      <td>Angola</td>\n",
       "      <td>AGO</td>\n",
       "      <td>Chad</td>\n",
       "      <td>TCD</td>\n",
       "      <td>Asylum-Seekers</td>\n",
       "      <td>UNHCR, Government</td>\n",
       "      <td>2024-06-30</td>\n",
       "      <td>968</td>\n",
       "    </tr>\n",
       "    <tr>\n",
       "      <th>1</th>\n",
       "      <td>Angola</td>\n",
       "      <td>AGO</td>\n",
       "      <td>Chad</td>\n",
       "      <td>TCD</td>\n",
       "      <td>Asylum-Seekers</td>\n",
       "      <td>UNHCR, Government</td>\n",
       "      <td>2024-07-31</td>\n",
       "      <td>968</td>\n",
       "    </tr>\n",
       "    <tr>\n",
       "      <th>2</th>\n",
       "      <td>Angola</td>\n",
       "      <td>AGO</td>\n",
       "      <td>Chad</td>\n",
       "      <td>TCD</td>\n",
       "      <td>Asylum-Seekers</td>\n",
       "      <td>UNHCR, Government</td>\n",
       "      <td>2024-08-31</td>\n",
       "      <td>968</td>\n",
       "    </tr>\n",
       "    <tr>\n",
       "      <th>3</th>\n",
       "      <td>Angola</td>\n",
       "      <td>AGO</td>\n",
       "      <td>Chad</td>\n",
       "      <td>TCD</td>\n",
       "      <td>Asylum-Seekers</td>\n",
       "      <td>UNHCR, Government</td>\n",
       "      <td>2024-09-30</td>\n",
       "      <td>968</td>\n",
       "    </tr>\n",
       "  </tbody>\n",
       "</table>\n",
       "</div>"
      ],
      "text/plain": [
       "  Country ISO3 Country of Origin ISO3 of Origin Population type  \\\n",
       "0  Angola  AGO              Chad            TCD  Asylum-Seekers   \n",
       "1  Angola  AGO              Chad            TCD  Asylum-Seekers   \n",
       "2  Angola  AGO              Chad            TCD  Asylum-Seekers   \n",
       "3  Angola  AGO              Chad            TCD  Asylum-Seekers   \n",
       "\n",
       "              Source        Date  Individuals  \n",
       "0  UNHCR, Government  2024-06-30          968  \n",
       "1  UNHCR, Government  2024-07-31          968  \n",
       "2  UNHCR, Government  2024-08-31          968  \n",
       "3  UNHCR, Government  2024-09-30          968  "
      ]
     },
     "execution_count": 62,
     "metadata": {},
     "output_type": "execute_result"
    }
   ],
   "source": [
    "data.head(4)"
   ]
  },
  {
   "cell_type": "code",
   "execution_count": 63,
   "id": "d1a85ca6-a68a-4d52-a231-d6f885761320",
   "metadata": {},
   "outputs": [],
   "source": [
    "from sklearn.preprocessing import LabelEncoder"
   ]
  },
  {
   "cell_type": "code",
   "execution_count": 64,
   "id": "7d869c64-9a53-487a-869b-c541fdda754a",
   "metadata": {},
   "outputs": [],
   "source": [
    "country_labeling = LabelEncoder()\n",
    "data['Country'] = country_labeling.fit_transform(data['Country'])\n",
    "data['Country of Origin'] = country_labeling.fit_transform(data['Country of Origin'])\n",
    "data['Population type'] = country_labeling.fit_transform(data['Population type'])"
   ]
  },
  {
   "cell_type": "code",
   "execution_count": 65,
   "id": "5d9c0b53-0481-4f63-9857-8005bec9e21e",
   "metadata": {},
   "outputs": [
    {
     "data": {
      "text/html": [
       "<div>\n",
       "<style scoped>\n",
       "    .dataframe tbody tr th:only-of-type {\n",
       "        vertical-align: middle;\n",
       "    }\n",
       "\n",
       "    .dataframe tbody tr th {\n",
       "        vertical-align: top;\n",
       "    }\n",
       "\n",
       "    .dataframe thead th {\n",
       "        text-align: right;\n",
       "    }\n",
       "</style>\n",
       "<table border=\"1\" class=\"dataframe\">\n",
       "  <thead>\n",
       "    <tr style=\"text-align: right;\">\n",
       "      <th></th>\n",
       "      <th>Country</th>\n",
       "      <th>ISO3</th>\n",
       "      <th>Country of Origin</th>\n",
       "      <th>ISO3 of Origin</th>\n",
       "      <th>Population type</th>\n",
       "      <th>Source</th>\n",
       "      <th>Date</th>\n",
       "      <th>Individuals</th>\n",
       "    </tr>\n",
       "  </thead>\n",
       "  <tbody>\n",
       "    <tr>\n",
       "      <th>0</th>\n",
       "      <td>0</td>\n",
       "      <td>AGO</td>\n",
       "      <td>6</td>\n",
       "      <td>TCD</td>\n",
       "      <td>0</td>\n",
       "      <td>UNHCR, Government</td>\n",
       "      <td>2024-06-30</td>\n",
       "      <td>968</td>\n",
       "    </tr>\n",
       "    <tr>\n",
       "      <th>1</th>\n",
       "      <td>0</td>\n",
       "      <td>AGO</td>\n",
       "      <td>6</td>\n",
       "      <td>TCD</td>\n",
       "      <td>0</td>\n",
       "      <td>UNHCR, Government</td>\n",
       "      <td>2024-07-31</td>\n",
       "      <td>968</td>\n",
       "    </tr>\n",
       "  </tbody>\n",
       "</table>\n",
       "</div>"
      ],
      "text/plain": [
       "   Country ISO3  Country of Origin ISO3 of Origin  Population type  \\\n",
       "0        0  AGO                  6            TCD                0   \n",
       "1        0  AGO                  6            TCD                0   \n",
       "\n",
       "              Source        Date  Individuals  \n",
       "0  UNHCR, Government  2024-06-30          968  \n",
       "1  UNHCR, Government  2024-07-31          968  "
      ]
     },
     "execution_count": 65,
     "metadata": {},
     "output_type": "execute_result"
    }
   ],
   "source": [
    "data.head(2)"
   ]
  },
  {
   "cell_type": "code",
   "execution_count": 66,
   "id": "80bb5215-d2ae-4d69-96cb-dfb3d8223b36",
   "metadata": {},
   "outputs": [
    {
     "data": {
      "text/plain": [
       "array([ 0,  3,  1,  2,  5,  7,  4,  8,  9, 10, 12, 13, 11, 14, 15, 16, 18,\n",
       "       19, 17, 20, 21, 22, 27, 23, 24, 25, 26,  6, 29, 28, 30, 31, 32])"
      ]
     },
     "execution_count": 66,
     "metadata": {},
     "output_type": "execute_result"
    }
   ],
   "source": [
    "data['Country'].unique()"
   ]
  },
  {
   "cell_type": "code",
   "execution_count": null,
   "id": "ff372c28-cc0f-490a-b23f-a014dfe26de9",
   "metadata": {},
   "outputs": [],
   "source": []
  },
  {
   "cell_type": "code",
   "execution_count": null,
   "id": "3a7807e9-0300-4c47-a7a5-e55f79ccb005",
   "metadata": {},
   "outputs": [],
   "source": []
  },
  {
   "cell_type": "code",
   "execution_count": 67,
   "id": "6842ee44-32b5-47d7-a0b9-94048cc2bb2b",
   "metadata": {},
   "outputs": [],
   "source": [
    "import seaborn as sns"
   ]
  },
  {
   "cell_type": "code",
   "execution_count": 68,
   "id": "813d892e-9a1f-47ca-b2df-d166231b91f4",
   "metadata": {},
   "outputs": [],
   "source": [
    "#sns.heatmap(data.corr())"
   ]
  },
  {
   "cell_type": "code",
   "execution_count": null,
   "id": "14c650f4-2432-4c98-8903-baae4afbbd48",
   "metadata": {},
   "outputs": [],
   "source": []
  },
  {
   "cell_type": "markdown",
   "id": "3d34535e-0edb-4ef5-a3c2-e807062a17b2",
   "metadata": {},
   "source": [
    "# 3. Creation d'une Sub-dataset"
   ]
  },
  {
   "cell_type": "code",
   "execution_count": 69,
   "id": "3da137bd-1adf-4ffc-8f4c-c414bb5f8859",
   "metadata": {},
   "outputs": [],
   "source": [
    "sub_data = data[['Country of Origin', 'Individuals']]"
   ]
  },
  {
   "cell_type": "code",
   "execution_count": 70,
   "id": "bb3ee728-e67f-4813-b58f-ad0adbf1351e",
   "metadata": {},
   "outputs": [
    {
     "data": {
      "text/html": [
       "<div>\n",
       "<style scoped>\n",
       "    .dataframe tbody tr th:only-of-type {\n",
       "        vertical-align: middle;\n",
       "    }\n",
       "\n",
       "    .dataframe tbody tr th {\n",
       "        vertical-align: top;\n",
       "    }\n",
       "\n",
       "    .dataframe thead th {\n",
       "        text-align: right;\n",
       "    }\n",
       "</style>\n",
       "<table border=\"1\" class=\"dataframe\">\n",
       "  <thead>\n",
       "    <tr style=\"text-align: right;\">\n",
       "      <th></th>\n",
       "      <th>Country of Origin</th>\n",
       "      <th>Individuals</th>\n",
       "    </tr>\n",
       "  </thead>\n",
       "  <tbody>\n",
       "    <tr>\n",
       "      <th>0</th>\n",
       "      <td>6</td>\n",
       "      <td>968</td>\n",
       "    </tr>\n",
       "    <tr>\n",
       "      <th>1</th>\n",
       "      <td>6</td>\n",
       "      <td>968</td>\n",
       "    </tr>\n",
       "    <tr>\n",
       "      <th>2</th>\n",
       "      <td>6</td>\n",
       "      <td>968</td>\n",
       "    </tr>\n",
       "    <tr>\n",
       "      <th>3</th>\n",
       "      <td>6</td>\n",
       "      <td>968</td>\n",
       "    </tr>\n",
       "    <tr>\n",
       "      <th>4</th>\n",
       "      <td>6</td>\n",
       "      <td>968</td>\n",
       "    </tr>\n",
       "  </tbody>\n",
       "</table>\n",
       "</div>"
      ],
      "text/plain": [
       "   Country of Origin  Individuals\n",
       "0                  6          968\n",
       "1                  6          968\n",
       "2                  6          968\n",
       "3                  6          968\n",
       "4                  6          968"
      ]
     },
     "execution_count": 70,
     "metadata": {},
     "output_type": "execute_result"
    }
   ],
   "source": [
    "sub_data.head()"
   ]
  },
  {
   "cell_type": "code",
   "execution_count": 71,
   "id": "73ac3947-6249-4f71-8834-c512ca4d29dc",
   "metadata": {},
   "outputs": [
    {
     "data": {
      "text/plain": [
       "array([ 6,  8,  9, 12, 16, 20, 22, 26, 28, 30, 31, 34, 38, 42,  2,  5, 36,\n",
       "        3,  7, 21, 32, 35, 25,  0,  4, 13, 29, 43, 24, 23, 37, 14,  1, 10,\n",
       "       11, 17, 18, 19, 27, 33, 39, 40, 41, 15])"
      ]
     },
     "execution_count": 71,
     "metadata": {},
     "output_type": "execute_result"
    }
   ],
   "source": [
    "data['Country of Origin'].unique()"
   ]
  },
  {
   "cell_type": "code",
   "execution_count": null,
   "id": "269e1a3e-03f0-43f1-b605-4aa55444d967",
   "metadata": {},
   "outputs": [],
   "source": []
  }
 ],
 "metadata": {
  "kernelspec": {
   "display_name": "Python 3 (ipykernel)",
   "language": "python",
   "name": "python3"
  },
  "language_info": {
   "codemirror_mode": {
    "name": "ipython",
    "version": 3
   },
   "file_extension": ".py",
   "mimetype": "text/x-python",
   "name": "python",
   "nbconvert_exporter": "python",
   "pygments_lexer": "ipython3",
   "version": "3.10.15"
  }
 },
 "nbformat": 4,
 "nbformat_minor": 5
}
